{
 "cells": [
  {
   "cell_type": "markdown",
   "metadata": {},
   "source": []
  },
  {
   "cell_type": "markdown",
   "metadata": {},
   "source": [
    "\n",
    "**Acknowledgement:**\n",
    "*This data is provided by scraping the website : https://cutoffs.iitr.ac.in/*\n"
   ]
  },
  {
   "cell_type": "markdown",
   "metadata": {},
   "source": [
    "***"
   ]
  },
  {
   "cell_type": "markdown",
   "metadata": {},
   "source": []
  },
  {
   "cell_type": "markdown",
   "metadata": {},
   "source": []
  },
  {
   "cell_type": "code",
   "execution_count": 1,
   "metadata": {
    "execution": {
     "iopub.execute_input": "2023-04-04T15:04:34.216679Z",
     "iopub.status.busy": "2023-04-04T15:04:34.216209Z",
     "iopub.status.idle": "2023-04-04T15:04:34.404116Z",
     "shell.execute_reply": "2023-04-04T15:04:34.403014Z",
     "shell.execute_reply.started": "2023-04-04T15:04:34.216640Z"
    }
   },
   "outputs": [],
   "source": [
    "#imports\n",
    "\n",
    "import pandas as pd\n",
    "import numpy as np\n",
    "import matplotlib.pyplot as plt\n",
    "import seaborn as sns"
   ]
  },
  {
   "cell_type": "code",
   "execution_count": 2,
   "metadata": {
    "execution": {
     "iopub.execute_input": "2023-04-04T15:04:35.430869Z",
     "iopub.status.busy": "2023-04-04T15:04:35.430453Z",
     "iopub.status.idle": "2023-04-04T15:04:35.436776Z",
     "shell.execute_reply": "2023-04-04T15:04:35.435440Z",
     "shell.execute_reply.started": "2023-04-04T15:04:35.430838Z"
    }
   },
   "outputs": [],
   "source": [
    "import warnings\n",
    "warnings.filterwarnings('ignore')"
   ]
  },
  {
   "cell_type": "markdown",
   "metadata": {},
   "source": []
  },
  {
   "cell_type": "code",
   "execution_count": 3,
   "metadata": {
    "execution": {
     "iopub.execute_input": "2023-04-04T15:04:41.423512Z",
     "iopub.status.busy": "2023-04-04T15:04:41.422454Z",
     "iopub.status.idle": "2023-04-04T15:04:41.680097Z",
     "shell.execute_reply": "2023-04-04T15:04:41.678943Z",
     "shell.execute_reply.started": "2023-04-04T15:04:41.423470Z"
    }
   },
   "outputs": [
    {
     "data": {
      "text/html": [
       "<div>\n",
       "<style scoped>\n",
       "    .dataframe tbody tr th:only-of-type {\n",
       "        vertical-align: middle;\n",
       "    }\n",
       "\n",
       "    .dataframe tbody tr th {\n",
       "        vertical-align: top;\n",
       "    }\n",
       "\n",
       "    .dataframe thead th {\n",
       "        text-align: right;\n",
       "    }\n",
       "</style>\n",
       "<table border=\"1\" class=\"dataframe\">\n",
       "  <thead>\n",
       "    <tr style=\"text-align: right;\">\n",
       "      <th></th>\n",
       "      <th>year</th>\n",
       "      <th>institute_type</th>\n",
       "      <th>round_no</th>\n",
       "      <th>quota</th>\n",
       "      <th>pool</th>\n",
       "      <th>institute_short</th>\n",
       "      <th>program_name</th>\n",
       "      <th>program_duration</th>\n",
       "      <th>degree_short</th>\n",
       "      <th>category</th>\n",
       "      <th>opening_rank</th>\n",
       "      <th>closing_rank</th>\n",
       "      <th>is_preparatory</th>\n",
       "      <th>Unnamed: 13</th>\n",
       "    </tr>\n",
       "  </thead>\n",
       "  <tbody>\n",
       "    <tr>\n",
       "      <th>64953</th>\n",
       "      <td>2021</td>\n",
       "      <td>NIT</td>\n",
       "      <td>1</td>\n",
       "      <td>JK</td>\n",
       "      <td>Female-Only</td>\n",
       "      <td>NIT-Srinagar</td>\n",
       "      <td>Electronics and Communication Engineering</td>\n",
       "      <td>4 Years</td>\n",
       "      <td>B.Tech</td>\n",
       "      <td>SC</td>\n",
       "      <td>14185</td>\n",
       "      <td>24048</td>\n",
       "      <td>0</td>\n",
       "      <td>NaN</td>\n",
       "    </tr>\n",
       "    <tr>\n",
       "      <th>64954</th>\n",
       "      <td>2021</td>\n",
       "      <td>NIT</td>\n",
       "      <td>1</td>\n",
       "      <td>JK</td>\n",
       "      <td>Gender-Neutral</td>\n",
       "      <td>NIT-Srinagar</td>\n",
       "      <td>Electronics and Communication Engineering</td>\n",
       "      <td>4 Years</td>\n",
       "      <td>B.Tech</td>\n",
       "      <td>ST</td>\n",
       "      <td>2736</td>\n",
       "      <td>4171</td>\n",
       "      <td>0</td>\n",
       "      <td>NaN</td>\n",
       "    </tr>\n",
       "    <tr>\n",
       "      <th>64955</th>\n",
       "      <td>2021</td>\n",
       "      <td>NIT</td>\n",
       "      <td>1</td>\n",
       "      <td>JK</td>\n",
       "      <td>Female-Only</td>\n",
       "      <td>NIT-Srinagar</td>\n",
       "      <td>Electronics and Communication Engineering</td>\n",
       "      <td>4 Years</td>\n",
       "      <td>B.Tech</td>\n",
       "      <td>ST</td>\n",
       "      <td>10870</td>\n",
       "      <td>10870</td>\n",
       "      <td>0</td>\n",
       "      <td>NaN</td>\n",
       "    </tr>\n",
       "    <tr>\n",
       "      <th>64956</th>\n",
       "      <td>2021</td>\n",
       "      <td>NIT</td>\n",
       "      <td>1</td>\n",
       "      <td>LA</td>\n",
       "      <td>Gender-Neutral</td>\n",
       "      <td>NIT-Srinagar</td>\n",
       "      <td>Electronics and Communication Engineering</td>\n",
       "      <td>4 Years</td>\n",
       "      <td>B.Tech</td>\n",
       "      <td>GEN</td>\n",
       "      <td>166453</td>\n",
       "      <td>265454</td>\n",
       "      <td>0</td>\n",
       "      <td>NaN</td>\n",
       "    </tr>\n",
       "    <tr>\n",
       "      <th>64957</th>\n",
       "      <td>2021</td>\n",
       "      <td>NIT</td>\n",
       "      <td>1</td>\n",
       "      <td>LA</td>\n",
       "      <td>Female-Only</td>\n",
       "      <td>NIT-Srinagar</td>\n",
       "      <td>Electronics and Communication Engineering</td>\n",
       "      <td>4 Years</td>\n",
       "      <td>B.Tech</td>\n",
       "      <td>GEN</td>\n",
       "      <td>215054</td>\n",
       "      <td>215054</td>\n",
       "      <td>0</td>\n",
       "      <td>NaN</td>\n",
       "    </tr>\n",
       "  </tbody>\n",
       "</table>\n",
       "</div>"
      ],
      "text/plain": [
       "       year institute_type  round_no quota            pool institute_short  \\\n",
       "64953  2021            NIT         1    JK     Female-Only    NIT-Srinagar   \n",
       "64954  2021            NIT         1    JK  Gender-Neutral    NIT-Srinagar   \n",
       "64955  2021            NIT         1    JK     Female-Only    NIT-Srinagar   \n",
       "64956  2021            NIT         1    LA  Gender-Neutral    NIT-Srinagar   \n",
       "64957  2021            NIT         1    LA     Female-Only    NIT-Srinagar   \n",
       "\n",
       "                                    program_name program_duration  \\\n",
       "64953  Electronics and Communication Engineering          4 Years   \n",
       "64954  Electronics and Communication Engineering          4 Years   \n",
       "64955  Electronics and Communication Engineering          4 Years   \n",
       "64956  Electronics and Communication Engineering          4 Years   \n",
       "64957  Electronics and Communication Engineering          4 Years   \n",
       "\n",
       "      degree_short category  opening_rank  closing_rank  is_preparatory  \\\n",
       "64953       B.Tech       SC         14185         24048               0   \n",
       "64954       B.Tech       ST          2736          4171               0   \n",
       "64955       B.Tech       ST         10870         10870               0   \n",
       "64956       B.Tech      GEN        166453        265454               0   \n",
       "64957       B.Tech      GEN        215054        215054               0   \n",
       "\n",
       "       Unnamed: 13  \n",
       "64953          NaN  \n",
       "64954          NaN  \n",
       "64955          NaN  \n",
       "64956          NaN  \n",
       "64957          NaN  "
      ]
     },
     "execution_count": 3,
     "metadata": {},
     "output_type": "execute_result"
    }
   ],
   "source": [
    "# Read data in a dataframe\n",
    "\n",
    "# A DataFrame is a data structure that organizes data \n",
    "#into a 2-dimensional table of rows and columns, much like a spreadsheet. \n",
    "\n",
    "df = pd.read_csv(\"https://raw.githubusercontent.com/Satyam4229/IIT-and-NIT-College-Dataset/main/data.csv\")\n",
    "df.tail()"
   ]
  },
  {
   "cell_type": "code",
   "execution_count": 4,
   "metadata": {
    "execution": {
     "iopub.execute_input": "2023-04-04T15:04:44.838486Z",
     "iopub.status.busy": "2023-04-04T15:04:44.838052Z",
     "iopub.status.idle": "2023-04-04T15:04:44.850717Z",
     "shell.execute_reply": "2023-04-04T15:04:44.849730Z",
     "shell.execute_reply.started": "2023-04-04T15:04:44.838447Z"
    }
   },
   "outputs": [],
   "source": [
    "del df[\"Unnamed: 13\"]"
   ]
  },
  {
   "cell_type": "code",
   "execution_count": 5,
   "metadata": {
    "execution": {
     "iopub.execute_input": "2023-04-04T15:04:46.784376Z",
     "iopub.status.busy": "2023-04-04T15:04:46.783218Z",
     "iopub.status.idle": "2023-04-04T15:04:46.804898Z",
     "shell.execute_reply": "2023-04-04T15:04:46.803013Z",
     "shell.execute_reply.started": "2023-04-04T15:04:46.784243Z"
    }
   },
   "outputs": [
    {
     "data": {
      "text/html": [
       "<div>\n",
       "<style scoped>\n",
       "    .dataframe tbody tr th:only-of-type {\n",
       "        vertical-align: middle;\n",
       "    }\n",
       "\n",
       "    .dataframe tbody tr th {\n",
       "        vertical-align: top;\n",
       "    }\n",
       "\n",
       "    .dataframe thead th {\n",
       "        text-align: right;\n",
       "    }\n",
       "</style>\n",
       "<table border=\"1\" class=\"dataframe\">\n",
       "  <thead>\n",
       "    <tr style=\"text-align: right;\">\n",
       "      <th></th>\n",
       "      <th>year</th>\n",
       "      <th>institute_type</th>\n",
       "      <th>round_no</th>\n",
       "      <th>quota</th>\n",
       "      <th>pool</th>\n",
       "      <th>institute_short</th>\n",
       "      <th>program_name</th>\n",
       "      <th>program_duration</th>\n",
       "      <th>degree_short</th>\n",
       "      <th>category</th>\n",
       "      <th>opening_rank</th>\n",
       "      <th>closing_rank</th>\n",
       "      <th>is_preparatory</th>\n",
       "    </tr>\n",
       "  </thead>\n",
       "  <tbody>\n",
       "    <tr>\n",
       "      <th>0</th>\n",
       "      <td>2016</td>\n",
       "      <td>IIT</td>\n",
       "      <td>6</td>\n",
       "      <td>AI</td>\n",
       "      <td>Gender-Neutral</td>\n",
       "      <td>IIT-Bombay</td>\n",
       "      <td>Aerospace Engineering</td>\n",
       "      <td>4 Years</td>\n",
       "      <td>B.Tech</td>\n",
       "      <td>GEN</td>\n",
       "      <td>838</td>\n",
       "      <td>1841</td>\n",
       "      <td>0</td>\n",
       "    </tr>\n",
       "    <tr>\n",
       "      <th>1</th>\n",
       "      <td>2016</td>\n",
       "      <td>IIT</td>\n",
       "      <td>6</td>\n",
       "      <td>AI</td>\n",
       "      <td>Gender-Neutral</td>\n",
       "      <td>IIT-Bombay</td>\n",
       "      <td>Aerospace Engineering</td>\n",
       "      <td>4 Years</td>\n",
       "      <td>B.Tech</td>\n",
       "      <td>OBC-NCL</td>\n",
       "      <td>408</td>\n",
       "      <td>1098</td>\n",
       "      <td>0</td>\n",
       "    </tr>\n",
       "    <tr>\n",
       "      <th>2</th>\n",
       "      <td>2016</td>\n",
       "      <td>IIT</td>\n",
       "      <td>6</td>\n",
       "      <td>AI</td>\n",
       "      <td>Gender-Neutral</td>\n",
       "      <td>IIT-Bombay</td>\n",
       "      <td>Aerospace Engineering</td>\n",
       "      <td>4 Years</td>\n",
       "      <td>B.Tech</td>\n",
       "      <td>SC</td>\n",
       "      <td>297</td>\n",
       "      <td>468</td>\n",
       "      <td>0</td>\n",
       "    </tr>\n",
       "    <tr>\n",
       "      <th>3</th>\n",
       "      <td>2016</td>\n",
       "      <td>IIT</td>\n",
       "      <td>6</td>\n",
       "      <td>AI</td>\n",
       "      <td>Gender-Neutral</td>\n",
       "      <td>IIT-Bombay</td>\n",
       "      <td>Aerospace Engineering</td>\n",
       "      <td>4 Years</td>\n",
       "      <td>B.Tech</td>\n",
       "      <td>ST</td>\n",
       "      <td>79</td>\n",
       "      <td>145</td>\n",
       "      <td>0</td>\n",
       "    </tr>\n",
       "    <tr>\n",
       "      <th>4</th>\n",
       "      <td>2016</td>\n",
       "      <td>IIT</td>\n",
       "      <td>6</td>\n",
       "      <td>AI</td>\n",
       "      <td>Gender-Neutral</td>\n",
       "      <td>IIT-Bombay</td>\n",
       "      <td>Aerospace Engineering</td>\n",
       "      <td>4 Years</td>\n",
       "      <td>B.Tech</td>\n",
       "      <td>GEN-PWD</td>\n",
       "      <td>94</td>\n",
       "      <td>94</td>\n",
       "      <td>0</td>\n",
       "    </tr>\n",
       "  </tbody>\n",
       "</table>\n",
       "</div>"
      ],
      "text/plain": [
       "   year institute_type  round_no quota            pool institute_short  \\\n",
       "0  2016            IIT         6    AI  Gender-Neutral      IIT-Bombay   \n",
       "1  2016            IIT         6    AI  Gender-Neutral      IIT-Bombay   \n",
       "2  2016            IIT         6    AI  Gender-Neutral      IIT-Bombay   \n",
       "3  2016            IIT         6    AI  Gender-Neutral      IIT-Bombay   \n",
       "4  2016            IIT         6    AI  Gender-Neutral      IIT-Bombay   \n",
       "\n",
       "            program_name program_duration degree_short category  opening_rank  \\\n",
       "0  Aerospace Engineering          4 Years       B.Tech      GEN           838   \n",
       "1  Aerospace Engineering          4 Years       B.Tech  OBC-NCL           408   \n",
       "2  Aerospace Engineering          4 Years       B.Tech       SC           297   \n",
       "3  Aerospace Engineering          4 Years       B.Tech       ST            79   \n",
       "4  Aerospace Engineering          4 Years       B.Tech  GEN-PWD            94   \n",
       "\n",
       "   closing_rank  is_preparatory  \n",
       "0          1841               0  \n",
       "1          1098               0  \n",
       "2           468               0  \n",
       "3           145               0  \n",
       "4            94               0  "
      ]
     },
     "execution_count": 5,
     "metadata": {},
     "output_type": "execute_result"
    }
   ],
   "source": [
    "df.head()"
   ]
  },
  {
   "cell_type": "markdown",
   "metadata": {},
   "source": []
  },
  {
   "cell_type": "code",
   "execution_count": 6,
   "metadata": {
    "execution": {
     "iopub.execute_input": "2023-04-04T15:04:51.075578Z",
     "iopub.status.busy": "2023-04-04T15:04:51.075109Z",
     "iopub.status.idle": "2023-04-04T15:04:51.125196Z",
     "shell.execute_reply": "2023-04-04T15:04:51.123902Z",
     "shell.execute_reply.started": "2023-04-04T15:04:51.075534Z"
    }
   },
   "outputs": [
    {
     "name": "stdout",
     "output_type": "stream",
     "text": [
      "<class 'pandas.core.frame.DataFrame'>\n",
      "RangeIndex: 64958 entries, 0 to 64957\n",
      "Data columns (total 13 columns):\n",
      " #   Column            Non-Null Count  Dtype \n",
      "---  ------            --------------  ----- \n",
      " 0   year              64958 non-null  int64 \n",
      " 1   institute_type    64958 non-null  object\n",
      " 2   round_no          64958 non-null  int64 \n",
      " 3   quota             64958 non-null  object\n",
      " 4   pool              64958 non-null  object\n",
      " 5   institute_short   64958 non-null  object\n",
      " 6   program_name      64958 non-null  object\n",
      " 7   program_duration  64958 non-null  object\n",
      " 8   degree_short      64958 non-null  object\n",
      " 9   category          64958 non-null  object\n",
      " 10  opening_rank      64958 non-null  int64 \n",
      " 11  closing_rank      64958 non-null  int64 \n",
      " 12  is_preparatory    64958 non-null  int64 \n",
      "dtypes: int64(5), object(8)\n",
      "memory usage: 6.4+ MB\n"
     ]
    }
   ],
   "source": [
    "df.info()"
   ]
  },
  {
   "cell_type": "code",
   "execution_count": 7,
   "metadata": {
    "execution": {
     "iopub.execute_input": "2023-04-04T15:04:52.859898Z",
     "iopub.status.busy": "2023-04-04T15:04:52.859387Z",
     "iopub.status.idle": "2023-04-04T15:04:52.923291Z",
     "shell.execute_reply": "2023-04-04T15:04:52.922036Z",
     "shell.execute_reply.started": "2023-04-04T15:04:52.859860Z"
    }
   },
   "outputs": [
    {
     "data": {
      "text/html": [
       "<div>\n",
       "<style scoped>\n",
       "    .dataframe tbody tr th:only-of-type {\n",
       "        vertical-align: middle;\n",
       "    }\n",
       "\n",
       "    .dataframe tbody tr th {\n",
       "        vertical-align: top;\n",
       "    }\n",
       "\n",
       "    .dataframe thead th {\n",
       "        text-align: right;\n",
       "    }\n",
       "</style>\n",
       "<table border=\"1\" class=\"dataframe\">\n",
       "  <thead>\n",
       "    <tr style=\"text-align: right;\">\n",
       "      <th></th>\n",
       "      <th>year</th>\n",
       "      <th>round_no</th>\n",
       "      <th>opening_rank</th>\n",
       "      <th>closing_rank</th>\n",
       "      <th>is_preparatory</th>\n",
       "    </tr>\n",
       "  </thead>\n",
       "  <tbody>\n",
       "    <tr>\n",
       "      <th>count</th>\n",
       "      <td>64958.000000</td>\n",
       "      <td>64958.000000</td>\n",
       "      <td>6.495800e+04</td>\n",
       "      <td>6.495800e+04</td>\n",
       "      <td>64958.000000</td>\n",
       "    </tr>\n",
       "    <tr>\n",
       "      <th>mean</th>\n",
       "      <td>2020.421580</td>\n",
       "      <td>2.609348</td>\n",
       "      <td>8.259642e+03</td>\n",
       "      <td>1.070497e+04</td>\n",
       "      <td>0.047631</td>\n",
       "    </tr>\n",
       "    <tr>\n",
       "      <th>std</th>\n",
       "      <td>1.149762</td>\n",
       "      <td>2.422558</td>\n",
       "      <td>2.679448e+04</td>\n",
       "      <td>3.788101e+04</td>\n",
       "      <td>0.212985</td>\n",
       "    </tr>\n",
       "    <tr>\n",
       "      <th>min</th>\n",
       "      <td>2016.000000</td>\n",
       "      <td>1.000000</td>\n",
       "      <td>0.000000e+00</td>\n",
       "      <td>0.000000e+00</td>\n",
       "      <td>0.000000</td>\n",
       "    </tr>\n",
       "    <tr>\n",
       "      <th>25%</th>\n",
       "      <td>2020.000000</td>\n",
       "      <td>1.000000</td>\n",
       "      <td>6.710000e+02</td>\n",
       "      <td>8.320000e+02</td>\n",
       "      <td>0.000000</td>\n",
       "    </tr>\n",
       "    <tr>\n",
       "      <th>50%</th>\n",
       "      <td>2021.000000</td>\n",
       "      <td>1.000000</td>\n",
       "      <td>2.309000e+03</td>\n",
       "      <td>2.764500e+03</td>\n",
       "      <td>0.000000</td>\n",
       "    </tr>\n",
       "    <tr>\n",
       "      <th>75%</th>\n",
       "      <td>2021.000000</td>\n",
       "      <td>6.000000</td>\n",
       "      <td>6.932000e+03</td>\n",
       "      <td>8.190000e+03</td>\n",
       "      <td>0.000000</td>\n",
       "    </tr>\n",
       "    <tr>\n",
       "      <th>max</th>\n",
       "      <td>2021.000000</td>\n",
       "      <td>7.000000</td>\n",
       "      <td>1.082601e+06</td>\n",
       "      <td>1.144790e+06</td>\n",
       "      <td>1.000000</td>\n",
       "    </tr>\n",
       "  </tbody>\n",
       "</table>\n",
       "</div>"
      ],
      "text/plain": [
       "               year      round_no  opening_rank  closing_rank  is_preparatory\n",
       "count  64958.000000  64958.000000  6.495800e+04  6.495800e+04    64958.000000\n",
       "mean    2020.421580      2.609348  8.259642e+03  1.070497e+04        0.047631\n",
       "std        1.149762      2.422558  2.679448e+04  3.788101e+04        0.212985\n",
       "min     2016.000000      1.000000  0.000000e+00  0.000000e+00        0.000000\n",
       "25%     2020.000000      1.000000  6.710000e+02  8.320000e+02        0.000000\n",
       "50%     2021.000000      1.000000  2.309000e+03  2.764500e+03        0.000000\n",
       "75%     2021.000000      6.000000  6.932000e+03  8.190000e+03        0.000000\n",
       "max     2021.000000      7.000000  1.082601e+06  1.144790e+06        1.000000"
      ]
     },
     "execution_count": 7,
     "metadata": {},
     "output_type": "execute_result"
    }
   ],
   "source": [
    "df.describe()"
   ]
  },
  {
   "cell_type": "code",
   "execution_count": 8,
   "metadata": {
    "execution": {
     "iopub.execute_input": "2023-04-04T15:04:54.630232Z",
     "iopub.status.busy": "2023-04-04T15:04:54.629822Z",
     "iopub.status.idle": "2023-04-04T15:04:54.637568Z",
     "shell.execute_reply": "2023-04-04T15:04:54.635816Z",
     "shell.execute_reply.started": "2023-04-04T15:04:54.630200Z"
    }
   },
   "outputs": [
    {
     "data": {
      "text/plain": [
       "(64958, 13)"
      ]
     },
     "execution_count": 8,
     "metadata": {},
     "output_type": "execute_result"
    }
   ],
   "source": [
    "# Shape of the Dataset\n",
    "\n",
    "df.shape"
   ]
  },
  {
   "cell_type": "code",
   "execution_count": 9,
   "metadata": {
    "execution": {
     "iopub.execute_input": "2023-04-04T15:04:56.593330Z",
     "iopub.status.busy": "2023-04-04T15:04:56.592119Z",
     "iopub.status.idle": "2023-04-04T15:04:56.605480Z",
     "shell.execute_reply": "2023-04-04T15:04:56.603978Z",
     "shell.execute_reply.started": "2023-04-04T15:04:56.593269Z"
    }
   },
   "outputs": [
    {
     "data": {
      "text/html": [
       "<div>\n",
       "<style scoped>\n",
       "    .dataframe tbody tr th:only-of-type {\n",
       "        vertical-align: middle;\n",
       "    }\n",
       "\n",
       "    .dataframe tbody tr th {\n",
       "        vertical-align: top;\n",
       "    }\n",
       "\n",
       "    .dataframe thead th {\n",
       "        text-align: right;\n",
       "    }\n",
       "</style>\n",
       "<table border=\"1\" class=\"dataframe\">\n",
       "  <thead>\n",
       "    <tr style=\"text-align: right;\">\n",
       "      <th></th>\n",
       "      <th>0</th>\n",
       "    </tr>\n",
       "  </thead>\n",
       "  <tbody>\n",
       "    <tr>\n",
       "      <th>0</th>\n",
       "      <td>year</td>\n",
       "    </tr>\n",
       "    <tr>\n",
       "      <th>1</th>\n",
       "      <td>institute_type</td>\n",
       "    </tr>\n",
       "    <tr>\n",
       "      <th>2</th>\n",
       "      <td>round_no</td>\n",
       "    </tr>\n",
       "    <tr>\n",
       "      <th>3</th>\n",
       "      <td>quota</td>\n",
       "    </tr>\n",
       "    <tr>\n",
       "      <th>4</th>\n",
       "      <td>pool</td>\n",
       "    </tr>\n",
       "    <tr>\n",
       "      <th>5</th>\n",
       "      <td>institute_short</td>\n",
       "    </tr>\n",
       "    <tr>\n",
       "      <th>6</th>\n",
       "      <td>program_name</td>\n",
       "    </tr>\n",
       "    <tr>\n",
       "      <th>7</th>\n",
       "      <td>program_duration</td>\n",
       "    </tr>\n",
       "    <tr>\n",
       "      <th>8</th>\n",
       "      <td>degree_short</td>\n",
       "    </tr>\n",
       "    <tr>\n",
       "      <th>9</th>\n",
       "      <td>category</td>\n",
       "    </tr>\n",
       "    <tr>\n",
       "      <th>10</th>\n",
       "      <td>opening_rank</td>\n",
       "    </tr>\n",
       "    <tr>\n",
       "      <th>11</th>\n",
       "      <td>closing_rank</td>\n",
       "    </tr>\n",
       "    <tr>\n",
       "      <th>12</th>\n",
       "      <td>is_preparatory</td>\n",
       "    </tr>\n",
       "  </tbody>\n",
       "</table>\n",
       "</div>"
      ],
      "text/plain": [
       "                   0\n",
       "0               year\n",
       "1     institute_type\n",
       "2           round_no\n",
       "3              quota\n",
       "4               pool\n",
       "5    institute_short\n",
       "6       program_name\n",
       "7   program_duration\n",
       "8       degree_short\n",
       "9           category\n",
       "10      opening_rank\n",
       "11      closing_rank\n",
       "12    is_preparatory"
      ]
     },
     "execution_count": 9,
     "metadata": {},
     "output_type": "execute_result"
    }
   ],
   "source": [
    "# Columns of the Dataset\n",
    "\n",
    "Columns = pd.DataFrame(df.columns)\n",
    "Columns"
   ]
  },
  {
   "cell_type": "code",
   "execution_count": 10,
   "metadata": {
    "execution": {
     "iopub.execute_input": "2023-04-04T15:04:58.351423Z",
     "iopub.status.busy": "2023-04-04T15:04:58.350925Z",
     "iopub.status.idle": "2023-04-04T15:04:58.366908Z",
     "shell.execute_reply": "2023-04-04T15:04:58.365666Z",
     "shell.execute_reply.started": "2023-04-04T15:04:58.351376Z"
    }
   },
   "outputs": [
    {
     "data": {
      "text/html": [
       "<div>\n",
       "<style scoped>\n",
       "    .dataframe tbody tr th:only-of-type {\n",
       "        vertical-align: middle;\n",
       "    }\n",
       "\n",
       "    .dataframe tbody tr th {\n",
       "        vertical-align: top;\n",
       "    }\n",
       "\n",
       "    .dataframe thead th {\n",
       "        text-align: right;\n",
       "    }\n",
       "</style>\n",
       "<table border=\"1\" class=\"dataframe\">\n",
       "  <thead>\n",
       "    <tr style=\"text-align: right;\">\n",
       "      <th></th>\n",
       "      <th>0</th>\n",
       "    </tr>\n",
       "  </thead>\n",
       "  <tbody>\n",
       "    <tr>\n",
       "      <th>0</th>\n",
       "      <td>AI</td>\n",
       "    </tr>\n",
       "    <tr>\n",
       "      <th>1</th>\n",
       "      <td>HS</td>\n",
       "    </tr>\n",
       "    <tr>\n",
       "      <th>2</th>\n",
       "      <td>OS</td>\n",
       "    </tr>\n",
       "    <tr>\n",
       "      <th>3</th>\n",
       "      <td>AP</td>\n",
       "    </tr>\n",
       "    <tr>\n",
       "      <th>4</th>\n",
       "      <td>GO</td>\n",
       "    </tr>\n",
       "    <tr>\n",
       "      <th>5</th>\n",
       "      <td>JK</td>\n",
       "    </tr>\n",
       "    <tr>\n",
       "      <th>6</th>\n",
       "      <td>LA</td>\n",
       "    </tr>\n",
       "  </tbody>\n",
       "</table>\n",
       "</div>"
      ],
      "text/plain": [
       "    0\n",
       "0  AI\n",
       "1  HS\n",
       "2  OS\n",
       "3  AP\n",
       "4  GO\n",
       "5  JK\n",
       "6  LA"
      ]
     },
     "execution_count": 10,
     "metadata": {},
     "output_type": "execute_result"
    }
   ],
   "source": [
    "# Unique values in quota\n",
    "\n",
    "Quota = pd.DataFrame(df[\"quota\"].unique())\n",
    "Quota"
   ]
  },
  {
   "cell_type": "code",
   "execution_count": 11,
   "metadata": {
    "execution": {
     "iopub.execute_input": "2023-04-04T15:05:00.582369Z",
     "iopub.status.busy": "2023-04-04T15:05:00.581887Z",
     "iopub.status.idle": "2023-04-04T15:05:00.597600Z",
     "shell.execute_reply": "2023-04-04T15:05:00.596086Z",
     "shell.execute_reply.started": "2023-04-04T15:05:00.582331Z"
    }
   },
   "outputs": [
    {
     "data": {
      "text/html": [
       "<div>\n",
       "<style scoped>\n",
       "    .dataframe tbody tr th:only-of-type {\n",
       "        vertical-align: middle;\n",
       "    }\n",
       "\n",
       "    .dataframe tbody tr th {\n",
       "        vertical-align: top;\n",
       "    }\n",
       "\n",
       "    .dataframe thead th {\n",
       "        text-align: right;\n",
       "    }\n",
       "</style>\n",
       "<table border=\"1\" class=\"dataframe\">\n",
       "  <thead>\n",
       "    <tr style=\"text-align: right;\">\n",
       "      <th></th>\n",
       "      <th>0</th>\n",
       "    </tr>\n",
       "  </thead>\n",
       "  <tbody>\n",
       "    <tr>\n",
       "      <th>0</th>\n",
       "      <td>Gender-Neutral</td>\n",
       "    </tr>\n",
       "    <tr>\n",
       "      <th>1</th>\n",
       "      <td>Female-Only</td>\n",
       "    </tr>\n",
       "  </tbody>\n",
       "</table>\n",
       "</div>"
      ],
      "text/plain": [
       "                0\n",
       "0  Gender-Neutral\n",
       "1     Female-Only"
      ]
     },
     "execution_count": 11,
     "metadata": {},
     "output_type": "execute_result"
    }
   ],
   "source": [
    "# Unique values in pool\n",
    "\n",
    "Pool = pd.DataFrame(df[\"pool\"].unique())\n",
    "Pool"
   ]
  },
  {
   "cell_type": "code",
   "execution_count": 12,
   "metadata": {
    "execution": {
     "iopub.execute_input": "2023-04-04T15:05:02.214967Z",
     "iopub.status.busy": "2023-04-04T15:05:02.214561Z",
     "iopub.status.idle": "2023-04-04T15:05:02.234405Z",
     "shell.execute_reply": "2023-04-04T15:05:02.233321Z",
     "shell.execute_reply.started": "2023-04-04T15:05:02.214934Z"
    }
   },
   "outputs": [
    {
     "data": {
      "text/html": [
       "<div>\n",
       "<style scoped>\n",
       "    .dataframe tbody tr th:only-of-type {\n",
       "        vertical-align: middle;\n",
       "    }\n",
       "\n",
       "    .dataframe tbody tr th {\n",
       "        vertical-align: top;\n",
       "    }\n",
       "\n",
       "    .dataframe thead th {\n",
       "        text-align: right;\n",
       "    }\n",
       "</style>\n",
       "<table border=\"1\" class=\"dataframe\">\n",
       "  <thead>\n",
       "    <tr style=\"text-align: right;\">\n",
       "      <th></th>\n",
       "      <th>Institute</th>\n",
       "    </tr>\n",
       "  </thead>\n",
       "  <tbody>\n",
       "    <tr>\n",
       "      <th>0</th>\n",
       "      <td>IIT-Bombay</td>\n",
       "    </tr>\n",
       "    <tr>\n",
       "      <th>1</th>\n",
       "      <td>IIT-Delhi</td>\n",
       "    </tr>\n",
       "    <tr>\n",
       "      <th>2</th>\n",
       "      <td>IIT-Kharagpur</td>\n",
       "    </tr>\n",
       "    <tr>\n",
       "      <th>3</th>\n",
       "      <td>IIT-Kanpur</td>\n",
       "    </tr>\n",
       "    <tr>\n",
       "      <th>4</th>\n",
       "      <td>IIT-Madras</td>\n",
       "    </tr>\n",
       "    <tr>\n",
       "      <th>5</th>\n",
       "      <td>IIT-Roorkee</td>\n",
       "    </tr>\n",
       "    <tr>\n",
       "      <th>6</th>\n",
       "      <td>IIT-Guwahati</td>\n",
       "    </tr>\n",
       "    <tr>\n",
       "      <th>7</th>\n",
       "      <td>IIT-Indore</td>\n",
       "    </tr>\n",
       "    <tr>\n",
       "      <th>8</th>\n",
       "      <td>IIT-Hyderabad</td>\n",
       "    </tr>\n",
       "    <tr>\n",
       "      <th>9</th>\n",
       "      <td>IIT-(BHU) Varanasi</td>\n",
       "    </tr>\n",
       "    <tr>\n",
       "      <th>10</th>\n",
       "      <td>IIT-Patna</td>\n",
       "    </tr>\n",
       "    <tr>\n",
       "      <th>11</th>\n",
       "      <td>IIT-(ISM) Dhanbad</td>\n",
       "    </tr>\n",
       "    <tr>\n",
       "      <th>12</th>\n",
       "      <td>IIT-Bhubaneswar</td>\n",
       "    </tr>\n",
       "    <tr>\n",
       "      <th>13</th>\n",
       "      <td>IIT-Mandi</td>\n",
       "    </tr>\n",
       "    <tr>\n",
       "      <th>14</th>\n",
       "      <td>IIT-Gandhinagar</td>\n",
       "    </tr>\n",
       "    <tr>\n",
       "      <th>15</th>\n",
       "      <td>IIT-Ropar</td>\n",
       "    </tr>\n",
       "    <tr>\n",
       "      <th>16</th>\n",
       "      <td>IIT-Jodhpur</td>\n",
       "    </tr>\n",
       "    <tr>\n",
       "      <th>17</th>\n",
       "      <td>IIT-Tirupati</td>\n",
       "    </tr>\n",
       "    <tr>\n",
       "      <th>18</th>\n",
       "      <td>IIT-Bhilai</td>\n",
       "    </tr>\n",
       "    <tr>\n",
       "      <th>19</th>\n",
       "      <td>IIT-Dharwad</td>\n",
       "    </tr>\n",
       "    <tr>\n",
       "      <th>20</th>\n",
       "      <td>IIT-Goa</td>\n",
       "    </tr>\n",
       "    <tr>\n",
       "      <th>21</th>\n",
       "      <td>IIT-Jammu</td>\n",
       "    </tr>\n",
       "    <tr>\n",
       "      <th>22</th>\n",
       "      <td>IIT-Palakkad</td>\n",
       "    </tr>\n",
       "    <tr>\n",
       "      <th>23</th>\n",
       "      <td>NIT-Warangal</td>\n",
       "    </tr>\n",
       "    <tr>\n",
       "      <th>24</th>\n",
       "      <td>NIT-Tiruchirappalli</td>\n",
       "    </tr>\n",
       "    <tr>\n",
       "      <th>25</th>\n",
       "      <td>NIT-Uttarakhand</td>\n",
       "    </tr>\n",
       "    <tr>\n",
       "      <th>26</th>\n",
       "      <td>NIT-Surat</td>\n",
       "    </tr>\n",
       "    <tr>\n",
       "      <th>27</th>\n",
       "      <td>NIT-Nagpur</td>\n",
       "    </tr>\n",
       "    <tr>\n",
       "      <th>28</th>\n",
       "      <td>NIT-Andhra-Pradesh</td>\n",
       "    </tr>\n",
       "    <tr>\n",
       "      <th>29</th>\n",
       "      <td>NIT-Jalandhar</td>\n",
       "    </tr>\n",
       "    <tr>\n",
       "      <th>30</th>\n",
       "      <td>NIT-Jaipur</td>\n",
       "    </tr>\n",
       "    <tr>\n",
       "      <th>31</th>\n",
       "      <td>NIT-Bhopal</td>\n",
       "    </tr>\n",
       "    <tr>\n",
       "      <th>32</th>\n",
       "      <td>NIT-Allahabad</td>\n",
       "    </tr>\n",
       "    <tr>\n",
       "      <th>33</th>\n",
       "      <td>NIT-Calicut</td>\n",
       "    </tr>\n",
       "    <tr>\n",
       "      <th>34</th>\n",
       "      <td>NIT-Agartala</td>\n",
       "    </tr>\n",
       "    <tr>\n",
       "      <th>35</th>\n",
       "      <td>NIT-Delhi</td>\n",
       "    </tr>\n",
       "    <tr>\n",
       "      <th>36</th>\n",
       "      <td>NIT-Durgapur</td>\n",
       "    </tr>\n",
       "    <tr>\n",
       "      <th>37</th>\n",
       "      <td>NIT-Goa</td>\n",
       "    </tr>\n",
       "    <tr>\n",
       "      <th>38</th>\n",
       "      <td>NIT-Hamirpur</td>\n",
       "    </tr>\n",
       "    <tr>\n",
       "      <th>39</th>\n",
       "      <td>NIT-Meghalaya</td>\n",
       "    </tr>\n",
       "    <tr>\n",
       "      <th>40</th>\n",
       "      <td>NIT-Karnataka-Surathkal</td>\n",
       "    </tr>\n",
       "    <tr>\n",
       "      <th>41</th>\n",
       "      <td>NIT-Patna</td>\n",
       "    </tr>\n",
       "    <tr>\n",
       "      <th>42</th>\n",
       "      <td>NIT-Nagaland</td>\n",
       "    </tr>\n",
       "    <tr>\n",
       "      <th>43</th>\n",
       "      <td>NIT-Puducherry</td>\n",
       "    </tr>\n",
       "    <tr>\n",
       "      <th>44</th>\n",
       "      <td>NIT-Raipur</td>\n",
       "    </tr>\n",
       "    <tr>\n",
       "      <th>45</th>\n",
       "      <td>NIT-Sikkim</td>\n",
       "    </tr>\n",
       "    <tr>\n",
       "      <th>46</th>\n",
       "      <td>NIT-Arunachal-Pradesh</td>\n",
       "    </tr>\n",
       "    <tr>\n",
       "      <th>47</th>\n",
       "      <td>NIT-Jamshedpur</td>\n",
       "    </tr>\n",
       "    <tr>\n",
       "      <th>48</th>\n",
       "      <td>NIT-Kurukshetra</td>\n",
       "    </tr>\n",
       "    <tr>\n",
       "      <th>49</th>\n",
       "      <td>NIT-Manipur</td>\n",
       "    </tr>\n",
       "    <tr>\n",
       "      <th>50</th>\n",
       "      <td>NIT-Mizoram</td>\n",
       "    </tr>\n",
       "    <tr>\n",
       "      <th>51</th>\n",
       "      <td>NIT-Rourkela</td>\n",
       "    </tr>\n",
       "    <tr>\n",
       "      <th>52</th>\n",
       "      <td>NIT-Silchar</td>\n",
       "    </tr>\n",
       "    <tr>\n",
       "      <th>53</th>\n",
       "      <td>NIT-Srinagar</td>\n",
       "    </tr>\n",
       "  </tbody>\n",
       "</table>\n",
       "</div>"
      ],
      "text/plain": [
       "                  Institute\n",
       "0                IIT-Bombay\n",
       "1                 IIT-Delhi\n",
       "2             IIT-Kharagpur\n",
       "3                IIT-Kanpur\n",
       "4                IIT-Madras\n",
       "5               IIT-Roorkee\n",
       "6              IIT-Guwahati\n",
       "7                IIT-Indore\n",
       "8             IIT-Hyderabad\n",
       "9        IIT-(BHU) Varanasi\n",
       "10                IIT-Patna\n",
       "11        IIT-(ISM) Dhanbad\n",
       "12          IIT-Bhubaneswar\n",
       "13                IIT-Mandi\n",
       "14          IIT-Gandhinagar\n",
       "15                IIT-Ropar\n",
       "16              IIT-Jodhpur\n",
       "17             IIT-Tirupati\n",
       "18               IIT-Bhilai\n",
       "19              IIT-Dharwad\n",
       "20                  IIT-Goa\n",
       "21                IIT-Jammu\n",
       "22             IIT-Palakkad\n",
       "23             NIT-Warangal\n",
       "24      NIT-Tiruchirappalli\n",
       "25          NIT-Uttarakhand\n",
       "26                NIT-Surat\n",
       "27               NIT-Nagpur\n",
       "28       NIT-Andhra-Pradesh\n",
       "29            NIT-Jalandhar\n",
       "30               NIT-Jaipur\n",
       "31               NIT-Bhopal\n",
       "32            NIT-Allahabad\n",
       "33              NIT-Calicut\n",
       "34             NIT-Agartala\n",
       "35                NIT-Delhi\n",
       "36             NIT-Durgapur\n",
       "37                  NIT-Goa\n",
       "38             NIT-Hamirpur\n",
       "39            NIT-Meghalaya\n",
       "40  NIT-Karnataka-Surathkal\n",
       "41                NIT-Patna\n",
       "42             NIT-Nagaland\n",
       "43           NIT-Puducherry\n",
       "44               NIT-Raipur\n",
       "45               NIT-Sikkim\n",
       "46    NIT-Arunachal-Pradesh\n",
       "47           NIT-Jamshedpur\n",
       "48          NIT-Kurukshetra\n",
       "49              NIT-Manipur\n",
       "50              NIT-Mizoram\n",
       "51             NIT-Rourkela\n",
       "52              NIT-Silchar\n",
       "53             NIT-Srinagar"
      ]
     },
     "execution_count": 12,
     "metadata": {},
     "output_type": "execute_result"
    }
   ],
   "source": [
    "# Various institutions \n",
    "\n",
    "Institutes = pd.DataFrame(df[\"institute_short\"].unique(), columns = {'Institute':0})\n",
    "Institutes "
   ]
  },
  {
   "cell_type": "code",
   "execution_count": 13,
   "metadata": {
    "execution": {
     "iopub.execute_input": "2023-04-04T15:05:03.553389Z",
     "iopub.status.busy": "2023-04-04T15:05:03.552216Z",
     "iopub.status.idle": "2023-04-04T15:05:03.575151Z",
     "shell.execute_reply": "2023-04-04T15:05:03.573645Z",
     "shell.execute_reply.started": "2023-04-04T15:05:03.553340Z"
    }
   },
   "outputs": [
    {
     "data": {
      "text/html": [
       "<div>\n",
       "<style scoped>\n",
       "    .dataframe tbody tr th:only-of-type {\n",
       "        vertical-align: middle;\n",
       "    }\n",
       "\n",
       "    .dataframe tbody tr th {\n",
       "        vertical-align: top;\n",
       "    }\n",
       "\n",
       "    .dataframe thead th {\n",
       "        text-align: right;\n",
       "    }\n",
       "</style>\n",
       "<table border=\"1\" class=\"dataframe\">\n",
       "  <thead>\n",
       "    <tr style=\"text-align: right;\">\n",
       "      <th></th>\n",
       "      <th>program</th>\n",
       "    </tr>\n",
       "  </thead>\n",
       "  <tbody>\n",
       "    <tr>\n",
       "      <th>0</th>\n",
       "      <td>Aerospace Engineering</td>\n",
       "    </tr>\n",
       "    <tr>\n",
       "      <th>1</th>\n",
       "      <td>Chemical Engineering</td>\n",
       "    </tr>\n",
       "    <tr>\n",
       "      <th>2</th>\n",
       "      <td>Chemistry</td>\n",
       "    </tr>\n",
       "    <tr>\n",
       "      <th>3</th>\n",
       "      <td>Civil Engineering</td>\n",
       "    </tr>\n",
       "    <tr>\n",
       "      <th>4</th>\n",
       "      <td>Computer Science and Engineering</td>\n",
       "    </tr>\n",
       "    <tr>\n",
       "      <th>...</th>\n",
       "      <td>...</td>\n",
       "    </tr>\n",
       "    <tr>\n",
       "      <th>125</th>\n",
       "      <td>Food Process Engineering</td>\n",
       "    </tr>\n",
       "    <tr>\n",
       "      <th>126</th>\n",
       "      <td>Ceramic Engineering and M.Tech Industrial Ceramic</td>\n",
       "    </tr>\n",
       "    <tr>\n",
       "      <th>127</th>\n",
       "      <td>Life Science</td>\n",
       "    </tr>\n",
       "    <tr>\n",
       "      <th>128</th>\n",
       "      <td>Mathematics and Data Science</td>\n",
       "    </tr>\n",
       "    <tr>\n",
       "      <th>129</th>\n",
       "      <td>Computational Mathematics</td>\n",
       "    </tr>\n",
       "  </tbody>\n",
       "</table>\n",
       "<p>130 rows × 1 columns</p>\n",
       "</div>"
      ],
      "text/plain": [
       "                                               program\n",
       "0                                Aerospace Engineering\n",
       "1                                 Chemical Engineering\n",
       "2                                            Chemistry\n",
       "3                                    Civil Engineering\n",
       "4                     Computer Science and Engineering\n",
       "..                                                 ...\n",
       "125                           Food Process Engineering\n",
       "126  Ceramic Engineering and M.Tech Industrial Ceramic\n",
       "127                                       Life Science\n",
       "128                       Mathematics and Data Science\n",
       "129                          Computational Mathematics\n",
       "\n",
       "[130 rows x 1 columns]"
      ]
     },
     "execution_count": 13,
     "metadata": {},
     "output_type": "execute_result"
    }
   ],
   "source": [
    "# Various types of programs\n",
    "\n",
    "Programs = pd.DataFrame(df[\"program_name\"].unique(), columns = {'program':0})\n",
    "Programs"
   ]
  },
  {
   "cell_type": "code",
   "execution_count": 14,
   "metadata": {
    "execution": {
     "iopub.execute_input": "2023-04-04T15:05:04.823624Z",
     "iopub.status.busy": "2023-04-04T15:05:04.823166Z",
     "iopub.status.idle": "2023-04-04T15:05:04.841044Z",
     "shell.execute_reply": "2023-04-04T15:05:04.839797Z",
     "shell.execute_reply.started": "2023-04-04T15:05:04.823587Z"
    }
   },
   "outputs": [
    {
     "data": {
      "text/html": [
       "<div>\n",
       "<style scoped>\n",
       "    .dataframe tbody tr th:only-of-type {\n",
       "        vertical-align: middle;\n",
       "    }\n",
       "\n",
       "    .dataframe tbody tr th {\n",
       "        vertical-align: top;\n",
       "    }\n",
       "\n",
       "    .dataframe thead th {\n",
       "        text-align: right;\n",
       "    }\n",
       "</style>\n",
       "<table border=\"1\" class=\"dataframe\">\n",
       "  <thead>\n",
       "    <tr style=\"text-align: right;\">\n",
       "      <th></th>\n",
       "      <th>Degree</th>\n",
       "    </tr>\n",
       "  </thead>\n",
       "  <tbody>\n",
       "    <tr>\n",
       "      <th>0</th>\n",
       "      <td>B.Tech</td>\n",
       "    </tr>\n",
       "    <tr>\n",
       "      <th>1</th>\n",
       "      <td>BSc</td>\n",
       "    </tr>\n",
       "    <tr>\n",
       "      <th>2</th>\n",
       "      <td>B.Tech + M.Tech (IDD)</td>\n",
       "    </tr>\n",
       "    <tr>\n",
       "      <th>3</th>\n",
       "      <td>Int MSc.</td>\n",
       "    </tr>\n",
       "    <tr>\n",
       "      <th>4</th>\n",
       "      <td>B.Arch</td>\n",
       "    </tr>\n",
       "    <tr>\n",
       "      <th>5</th>\n",
       "      <td>Int M.Tech</td>\n",
       "    </tr>\n",
       "    <tr>\n",
       "      <th>6</th>\n",
       "      <td>B.Pharm</td>\n",
       "    </tr>\n",
       "    <tr>\n",
       "      <th>7</th>\n",
       "      <td>B.Pharm + M.Pharm</td>\n",
       "    </tr>\n",
       "    <tr>\n",
       "      <th>8</th>\n",
       "      <td>BS + MS (IDD)</td>\n",
       "    </tr>\n",
       "    <tr>\n",
       "      <th>9</th>\n",
       "      <td>Int Msc.</td>\n",
       "    </tr>\n",
       "    <tr>\n",
       "      <th>10</th>\n",
       "      <td>B.Plan</td>\n",
       "    </tr>\n",
       "    <tr>\n",
       "      <th>11</th>\n",
       "      <td>Btech + M.Tech (IDD)</td>\n",
       "    </tr>\n",
       "    <tr>\n",
       "      <th>12</th>\n",
       "      <td>BSc + MSc (IDD)</td>\n",
       "    </tr>\n",
       "  </tbody>\n",
       "</table>\n",
       "</div>"
      ],
      "text/plain": [
       "                   Degree\n",
       "0                  B.Tech\n",
       "1                     BSc\n",
       "2   B.Tech + M.Tech (IDD)\n",
       "3                Int MSc.\n",
       "4                  B.Arch\n",
       "5              Int M.Tech\n",
       "6                 B.Pharm\n",
       "7       B.Pharm + M.Pharm\n",
       "8           BS + MS (IDD)\n",
       "9                Int Msc.\n",
       "10                 B.Plan\n",
       "11   Btech + M.Tech (IDD)\n",
       "12        BSc + MSc (IDD)"
      ]
     },
     "execution_count": 14,
     "metadata": {},
     "output_type": "execute_result"
    }
   ],
   "source": [
    "# Various degrees\n",
    "\n",
    "Degree = pd.DataFrame(df[\"degree_short\"].unique(), columns = {'Degree':0})\n",
    "Degree"
   ]
  },
  {
   "cell_type": "code",
   "execution_count": 15,
   "metadata": {
    "execution": {
     "iopub.execute_input": "2023-04-04T15:05:06.141990Z",
     "iopub.status.busy": "2023-04-04T15:05:06.140930Z",
     "iopub.status.idle": "2023-04-04T15:05:06.154652Z",
     "shell.execute_reply": "2023-04-04T15:05:06.153218Z",
     "shell.execute_reply.started": "2023-04-04T15:05:06.141943Z"
    }
   },
   "outputs": [],
   "source": [
    "# Correcting the values\n",
    "\n",
    "df.loc[df[\"degree_short\"] == \"Int Msc.\", \"degree_short\"] = \"Int MSc.\""
   ]
  },
  {
   "cell_type": "code",
   "execution_count": 16,
   "metadata": {
    "execution": {
     "iopub.execute_input": "2023-04-04T15:05:07.483097Z",
     "iopub.status.busy": "2023-04-04T15:05:07.482652Z",
     "iopub.status.idle": "2023-04-04T15:05:07.496223Z",
     "shell.execute_reply": "2023-04-04T15:05:07.494405Z",
     "shell.execute_reply.started": "2023-04-04T15:05:07.483060Z"
    }
   },
   "outputs": [
    {
     "data": {
      "text/plain": [
       "12"
      ]
     },
     "execution_count": 16,
     "metadata": {},
     "output_type": "execute_result"
    }
   ],
   "source": [
    "df[\"degree_short\"].nunique()"
   ]
  },
  {
   "cell_type": "code",
   "execution_count": 17,
   "metadata": {},
   "outputs": [
    {
     "data": {
      "text/html": [
       "<div>\n",
       "<style scoped>\n",
       "    .dataframe tbody tr th:only-of-type {\n",
       "        vertical-align: middle;\n",
       "    }\n",
       "\n",
       "    .dataframe tbody tr th {\n",
       "        vertical-align: top;\n",
       "    }\n",
       "\n",
       "    .dataframe thead th {\n",
       "        text-align: right;\n",
       "    }\n",
       "</style>\n",
       "<table border=\"1\" class=\"dataframe\">\n",
       "  <thead>\n",
       "    <tr style=\"text-align: right;\">\n",
       "      <th></th>\n",
       "      <th>0</th>\n",
       "    </tr>\n",
       "  </thead>\n",
       "  <tbody>\n",
       "    <tr>\n",
       "      <th>0</th>\n",
       "      <td>6</td>\n",
       "    </tr>\n",
       "    <tr>\n",
       "      <th>1</th>\n",
       "      <td>7</td>\n",
       "    </tr>\n",
       "    <tr>\n",
       "      <th>2</th>\n",
       "      <td>1</td>\n",
       "    </tr>\n",
       "    <tr>\n",
       "      <th>3</th>\n",
       "      <td>2</td>\n",
       "    </tr>\n",
       "  </tbody>\n",
       "</table>\n",
       "</div>"
      ],
      "text/plain": [
       "   0\n",
       "0  6\n",
       "1  7\n",
       "2  1\n",
       "3  2"
      ]
     },
     "execution_count": 17,
     "metadata": {},
     "output_type": "execute_result"
    }
   ],
   "source": [
    "Round = pd.DataFrame(df[\"round_no\"].unique())\n",
    "Round"
   ]
  },
  {
   "cell_type": "code",
   "execution_count": 18,
   "metadata": {
    "execution": {
     "iopub.execute_input": "2023-04-04T15:05:08.714979Z",
     "iopub.status.busy": "2023-04-04T15:05:08.713882Z",
     "iopub.status.idle": "2023-04-04T15:05:08.733428Z",
     "shell.execute_reply": "2023-04-04T15:05:08.731492Z",
     "shell.execute_reply.started": "2023-04-04T15:05:08.714905Z"
    }
   },
   "outputs": [
    {
     "data": {
      "text/html": [
       "<div>\n",
       "<style scoped>\n",
       "    .dataframe tbody tr th:only-of-type {\n",
       "        vertical-align: middle;\n",
       "    }\n",
       "\n",
       "    .dataframe tbody tr th {\n",
       "        vertical-align: top;\n",
       "    }\n",
       "\n",
       "    .dataframe thead th {\n",
       "        text-align: right;\n",
       "    }\n",
       "</style>\n",
       "<table border=\"1\" class=\"dataframe\">\n",
       "  <thead>\n",
       "    <tr style=\"text-align: right;\">\n",
       "      <th></th>\n",
       "      <th>0</th>\n",
       "    </tr>\n",
       "  </thead>\n",
       "  <tbody>\n",
       "    <tr>\n",
       "      <th>0</th>\n",
       "      <td>GEN</td>\n",
       "    </tr>\n",
       "    <tr>\n",
       "      <th>1</th>\n",
       "      <td>OBC-NCL</td>\n",
       "    </tr>\n",
       "    <tr>\n",
       "      <th>2</th>\n",
       "      <td>SC</td>\n",
       "    </tr>\n",
       "    <tr>\n",
       "      <th>3</th>\n",
       "      <td>ST</td>\n",
       "    </tr>\n",
       "    <tr>\n",
       "      <th>4</th>\n",
       "      <td>GEN-PWD</td>\n",
       "    </tr>\n",
       "    <tr>\n",
       "      <th>5</th>\n",
       "      <td>OBC-NCL-PWD</td>\n",
       "    </tr>\n",
       "    <tr>\n",
       "      <th>6</th>\n",
       "      <td>SC-PWD</td>\n",
       "    </tr>\n",
       "    <tr>\n",
       "      <th>7</th>\n",
       "      <td>ST-PWD</td>\n",
       "    </tr>\n",
       "    <tr>\n",
       "      <th>8</th>\n",
       "      <td>GEN-EWS</td>\n",
       "    </tr>\n",
       "    <tr>\n",
       "      <th>9</th>\n",
       "      <td>GEN-EWS-PWD</td>\n",
       "    </tr>\n",
       "  </tbody>\n",
       "</table>\n",
       "</div>"
      ],
      "text/plain": [
       "             0\n",
       "0          GEN\n",
       "1      OBC-NCL\n",
       "2           SC\n",
       "3           ST\n",
       "4      GEN-PWD\n",
       "5  OBC-NCL-PWD\n",
       "6       SC-PWD\n",
       "7       ST-PWD\n",
       "8      GEN-EWS\n",
       "9  GEN-EWS-PWD"
      ]
     },
     "execution_count": 18,
     "metadata": {},
     "output_type": "execute_result"
    }
   ],
   "source": [
    "# Unique values in category\n",
    "\n",
    "Category = pd.DataFrame(df[\"category\"].unique())\n",
    "Category"
   ]
  },
  {
   "cell_type": "code",
   "execution_count": 19,
   "metadata": {
    "execution": {
     "iopub.execute_input": "2023-04-04T15:05:09.960056Z",
     "iopub.status.busy": "2023-04-04T15:05:09.959374Z",
     "iopub.status.idle": "2023-04-04T15:05:11.155940Z",
     "shell.execute_reply": "2023-04-04T15:05:11.154267Z",
     "shell.execute_reply.started": "2023-04-04T15:05:09.959999Z"
    }
   },
   "outputs": [
    {
     "data": {
      "text/plain": [
       "<AxesSubplot:>"
      ]
     },
     "execution_count": 19,
     "metadata": {},
     "output_type": "execute_result"
    },
    {
     "data": {
      "image/png": "[encoded data removed]",
      "text/plain": [
       "<Figure size 640x480 with 2 Axes>"
      ]
     },
     "metadata": {},
     "output_type": "display_data"
    }
   ],
   "source": [
    "# Checking the null values in dataset\n",
    "\n",
    "sns.heatmap(df.isnull(),yticklabels=False, alpha = 0.5)"
   ]
  },
  {
   "cell_type": "code",
   "execution_count": 20,
   "metadata": {
    "execution": {
     "iopub.execute_input": "2023-04-04T15:05:12.002637Z",
     "iopub.status.busy": "2023-04-04T15:05:12.002163Z",
     "iopub.status.idle": "2023-04-04T15:05:12.309677Z",
     "shell.execute_reply": "2023-04-04T15:05:12.308494Z",
     "shell.execute_reply.started": "2023-04-04T15:05:12.002600Z"
    }
   },
   "outputs": [],
   "source": [
    "# Creating new CSV file After correcting the Dataset\n",
    "\n",
    "df.to_csv(\"iit-and-nit-colleges-admission-criteria-version-2.csv\")"
   ]
  },
  {
   "cell_type": "markdown",
   "metadata": {},
   "source": [
    "***"
   ]
  },
  {
   "cell_type": "markdown",
   "metadata": {},
   "source": []
  },
  {
   "cell_type": "code",
   "execution_count": 21,
   "metadata": {
    "execution": {
     "iopub.execute_input": "2023-04-04T15:05:21.466044Z",
     "iopub.status.busy": "2023-04-04T15:05:21.465618Z",
     "iopub.status.idle": "2023-04-04T15:05:22.397704Z",
     "shell.execute_reply": "2023-04-04T15:05:22.396673Z",
     "shell.execute_reply.started": "2023-04-04T15:05:21.466008Z"
    }
   },
   "outputs": [
    {
     "data": {
      "image/png": "[encoded data removed]",
      "text/plain": [
       "<Figure size 1500x800 with 1 Axes>"
      ]
     },
     "metadata": {},
     "output_type": "display_data"
    }
   ],
   "source": [
    "#Let's check out All Institutes in the dataset\n",
    "\n",
    "plt.figure(figsize=(15,8))\n",
    "institutes = df.groupby(['institute_short']).size().plot(kind = 'bar', color = \"#5cd65c\", alpha = 0.5)\n",
    "plt.show()"
   ]
  },
  {
   "cell_type": "code",
   "execution_count": 22,
   "metadata": {
    "execution": {
     "iopub.execute_input": "2023-04-04T15:05:24.098943Z",
     "iopub.status.busy": "2023-04-04T15:05:24.098322Z",
     "iopub.status.idle": "2023-04-04T15:05:24.349351Z",
     "shell.execute_reply": "2023-04-04T15:05:24.348163Z",
     "shell.execute_reply.started": "2023-04-04T15:05:24.098908Z"
    }
   },
   "outputs": [
    {
     "data": {
      "text/plain": [
       "Text(0, 0.5, 'students')"
      ]
     },
     "execution_count": 22,
     "metadata": {},
     "output_type": "execute_result"
    },
    {
     "data": {
      "image/png": "[encoded data removed]",
      "text/plain": [
       "<Figure size 1500x800 with 1 Axes>"
      ]
     },
     "metadata": {},
     "output_type": "display_data"
    }
   ],
   "source": [
    "# Students admitted per year\n",
    "\n",
    "plt.figure(figsize=(15,8))\n",
    "plt.title('student per year')\n",
    "sns.lineplot(x=['2021','2020','2019','2018','2017','2016'],y=df['year'].value_counts(), color = \"#ff1a1a\", alpha = 0.5)\n",
    "plt.ylabel('students')"
   ]
  },
  {
   "cell_type": "markdown",
   "metadata": {},
   "source": []
  },
  {
   "cell_type": "code",
   "execution_count": 24,
   "metadata": {
    "execution": {
     "iopub.execute_input": "2023-04-04T15:05:41.073157Z",
     "iopub.status.busy": "2023-04-04T15:05:41.072762Z",
     "iopub.status.idle": "2023-04-04T15:05:41.084841Z",
     "shell.execute_reply": "2023-04-04T15:05:41.083923Z",
     "shell.execute_reply.started": "2023-04-04T15:05:41.073125Z"
    }
   },
   "outputs": [
    {
     "data": {
      "text/plain": [
       "AI    32905\n",
       "OS    16962\n",
       "HS    14291\n",
       "JK      393\n",
       "GO      275\n",
       "AP       72\n",
       "LA       60\n",
       "Name: quota, dtype: int64"
      ]
     },
     "execution_count": 24,
     "metadata": {},
     "output_type": "execute_result"
    }
   ],
   "source": [
    "max_quota = df['quota'].value_counts()\n",
    "max_quota"
   ]
  },
  {
   "cell_type": "markdown",
   "metadata": {},
   "source": [
    "*Since, AI (all India) reservation has max counts - it can be a factor contributing to admissions.*"
   ]
  },
  {
   "cell_type": "code",
   "execution_count": 25,
   "metadata": {
    "execution": {
     "iopub.execute_input": "2023-04-04T15:05:47.566047Z",
     "iopub.status.busy": "2023-04-04T15:05:47.565606Z",
     "iopub.status.idle": "2023-04-04T15:05:47.777037Z",
     "shell.execute_reply": "2023-04-04T15:05:47.775349Z",
     "shell.execute_reply.started": "2023-04-04T15:05:47.566004Z"
    }
   },
   "outputs": [
    {
     "data": {
      "image/png": "[encoded data removed]",
      "text/plain": [
       "<Figure size 1500x800 with 1 Axes>"
      ]
     },
     "metadata": {},
     "output_type": "display_data"
    }
   ],
   "source": [
    "plt.figure(figsize=(15,8))\n",
    "plt.plot(max_quota, color = \"#2e2eb8\", alpha = 0.5)\n",
    "plt.show()"
   ]
  },
  {
   "cell_type": "code",
   "execution_count": 26,
   "metadata": {
    "execution": {
     "iopub.execute_input": "2023-04-04T15:05:54.747226Z",
     "iopub.status.busy": "2023-04-04T15:05:54.746798Z",
     "iopub.status.idle": "2023-04-04T15:05:55.103663Z",
     "shell.execute_reply": "2023-04-04T15:05:55.101562Z",
     "shell.execute_reply.started": "2023-04-04T15:05:54.747194Z"
    }
   },
   "outputs": [
    {
     "data": {
      "image/png": "[encoded data removed]",
      "text/plain": [
       "<Figure size 1500x800 with 1 Axes>"
      ]
     },
     "metadata": {},
     "output_type": "display_data"
    }
   ],
   "source": [
    "#Yearly quota study\n",
    "\n",
    "plt.figure(figsize=(15,8))\n",
    "year_club = df.groupby(['year', 'quota']).size().plot(kind = 'bar', color = \"#000000\", alpha = 0.5)"
   ]
  },
  {
   "cell_type": "markdown",
   "metadata": {},
   "source": [
    "<!-- sss -->"
   ]
  },
  {
   "cell_type": "markdown",
   "metadata": {},
   "source": [
    "<!-- sss -->"
   ]
  },
  {
   "cell_type": "markdown",
   "metadata": {},
   "source": [
    "------------------------------------------------------------------- **Opening Ranks** ---------------------------------------------------------------------------"
   ]
  },
  {
   "cell_type": "code",
   "execution_count": 27,
   "metadata": {
    "execution": {
     "iopub.execute_input": "2023-04-04T15:06:08.542901Z",
     "iopub.status.busy": "2023-04-04T15:06:08.542489Z",
     "iopub.status.idle": "2023-04-04T15:06:08.550366Z",
     "shell.execute_reply": "2023-04-04T15:06:08.548940Z",
     "shell.execute_reply.started": "2023-04-04T15:06:08.542869Z"
    }
   },
   "outputs": [
    {
     "name": "stdout",
     "output_type": "stream",
     "text": [
      "Average opening rank over the years has been -  8260\n"
     ]
    }
   ],
   "source": [
    "avg_opening_rank = df['opening_rank'].mean(axis = 0)\n",
    "avg_open_rank = round(avg_opening_rank)\n",
    "print(\"Average opening rank over the years has been - \", avg_open_rank)"
   ]
  },
  {
   "cell_type": "code",
   "execution_count": 28,
   "metadata": {
    "execution": {
     "iopub.execute_input": "2023-04-04T15:06:10.271870Z",
     "iopub.status.busy": "2023-04-04T15:06:10.271440Z",
     "iopub.status.idle": "2023-04-04T15:06:10.279284Z",
     "shell.execute_reply": "2023-04-04T15:06:10.277766Z",
     "shell.execute_reply.started": "2023-04-04T15:06:10.271833Z"
    }
   },
   "outputs": [
    {
     "name": "stdout",
     "output_type": "stream",
     "text": [
      "Max opening rank over the years has been -  1082601\n"
     ]
    }
   ],
   "source": [
    "max_opening_rank = df['opening_rank'].max(axis = 0)\n",
    "max_open_rank = round(max_opening_rank)\n",
    "print(\"Max opening rank over the years has been - \", max_open_rank)"
   ]
  },
  {
   "cell_type": "code",
   "execution_count": 29,
   "metadata": {
    "execution": {
     "iopub.execute_input": "2023-04-04T15:06:12.500750Z",
     "iopub.status.busy": "2023-04-04T15:06:12.499981Z",
     "iopub.status.idle": "2023-04-04T15:06:12.507143Z",
     "shell.execute_reply": "2023-04-04T15:06:12.505869Z",
     "shell.execute_reply.started": "2023-04-04T15:06:12.500707Z"
    }
   },
   "outputs": [
    {
     "name": "stdout",
     "output_type": "stream",
     "text": [
      "Min opening rank over the years has been -  0\n"
     ]
    }
   ],
   "source": [
    "min_opening_rank = df['opening_rank'].min(axis = 0)\n",
    "min_open_rank = round(min_opening_rank)\n",
    "print(\"Min opening rank over the years has been - \", min_open_rank)"
   ]
  },
  {
   "cell_type": "markdown",
   "metadata": {},
   "source": [
    "-------------------------------------------------------------------- **Closing Ranks** ---------------------------------------------------------------------------"
   ]
  },
  {
   "cell_type": "code",
   "execution_count": 30,
   "metadata": {
    "execution": {
     "iopub.execute_input": "2023-04-04T15:06:21.049606Z",
     "iopub.status.busy": "2023-04-04T15:06:21.049150Z",
     "iopub.status.idle": "2023-04-04T15:06:21.057268Z",
     "shell.execute_reply": "2023-04-04T15:06:21.055937Z",
     "shell.execute_reply.started": "2023-04-04T15:06:21.049569Z"
    }
   },
   "outputs": [
    {
     "name": "stdout",
     "output_type": "stream",
     "text": [
      "Average closing rank over the years has been -  10705\n"
     ]
    }
   ],
   "source": [
    "avg_closing_rank = round(df['closing_rank'].mean(axis = 0))\n",
    "print(\"Average closing rank over the years has been - \", avg_closing_rank)"
   ]
  },
  {
   "cell_type": "code",
   "execution_count": 31,
   "metadata": {
    "execution": {
     "iopub.execute_input": "2023-04-04T15:06:22.102417Z",
     "iopub.status.busy": "2023-04-04T15:06:22.101937Z",
     "iopub.status.idle": "2023-04-04T15:06:22.109831Z",
     "shell.execute_reply": "2023-04-04T15:06:22.108507Z",
     "shell.execute_reply.started": "2023-04-04T15:06:22.102376Z"
    }
   },
   "outputs": [
    {
     "name": "stdout",
     "output_type": "stream",
     "text": [
      "Max closing rank over the years has been -  1144790\n"
     ]
    }
   ],
   "source": [
    "max_closing_rank = df['closing_rank'].max(axis = 0)\n",
    "max_close_rank = round(max_closing_rank)\n",
    "print(\"Max closing rank over the years has been - \", max_close_rank)"
   ]
  },
  {
   "cell_type": "code",
   "execution_count": 32,
   "metadata": {
    "execution": {
     "iopub.execute_input": "2023-04-04T15:06:23.443780Z",
     "iopub.status.busy": "2023-04-04T15:06:23.443381Z",
     "iopub.status.idle": "2023-04-04T15:06:23.450787Z",
     "shell.execute_reply": "2023-04-04T15:06:23.449720Z",
     "shell.execute_reply.started": "2023-04-04T15:06:23.443746Z"
    }
   },
   "outputs": [
    {
     "name": "stdout",
     "output_type": "stream",
     "text": [
      "Min closing rank over the years has been -  0\n"
     ]
    }
   ],
   "source": [
    "min_closing_rank = df['closing_rank'].min(axis = 0)\n",
    "min_close_rank = round(min_closing_rank)\n",
    "print(\"Min closing rank over the years has been - \", min_close_rank)"
   ]
  },
  {
   "cell_type": "markdown",
   "metadata": {},
   "source": [
    "**<span>From analysis of Opening and Closing ranks, we can say that on average if you score a rank around ~8000 then you might become eligible. While keeping in mind the quota factor, the maximum and minimum ranks still vary on a range of large scale till about 10 lakhs.</span>**"
   ]
  },
  {
   "cell_type": "markdown",
   "metadata": {},
   "source": [
    "<!-- ss -->"
   ]
  },
  {
   "cell_type": "markdown",
   "metadata": {},
   "source": [
    "The IIT Preparatory Course comprises of courses in Mathematics, Physics, Chemistry and English for two semesters after which the candidates are evaluated."
   ]
  },
  {
   "cell_type": "code",
   "execution_count": 33,
   "metadata": {
    "execution": {
     "iopub.execute_input": "2023-04-04T15:06:34.051788Z",
     "iopub.status.busy": "2023-04-04T15:06:34.051360Z",
     "iopub.status.idle": "2023-04-04T15:06:34.369565Z",
     "shell.execute_reply": "2023-04-04T15:06:34.368325Z",
     "shell.execute_reply.started": "2023-04-04T15:06:34.051752Z"
    }
   },
   "outputs": [
    {
     "data": {
      "image/png": "[encoded data removed]",
      "text/plain": [
       "<Figure size 1500x800 with 1 Axes>"
      ]
     },
     "metadata": {},
     "output_type": "display_data"
    }
   ],
   "source": [
    "# Which universities/colleges provide preparatory courses (represented by 1)\n",
    "\n",
    "plt.figure(figsize=(15,8))\n",
    "prep_true = df.loc[df['is_preparatory'] == 1, 'institute_short'].value_counts()\n",
    "plt.plot(prep_true, 'o', color = \"#ff0000\", alpha = 0.5)\n",
    "plt.xticks(rotation = 60)\n",
    "plt.show() "
   ]
  },
  {
   "cell_type": "markdown",
   "metadata": {},
   "source": [
    "**<span > From the above chart, we found some of the colleges that provide preparatory courses. Here IIT Kharagpur provides maximum number of preparatory courses to students followed by IIT Roorkee and BHU.</span>**"
   ]
  },
  {
   "cell_type": "markdown",
   "metadata": {},
   "source": [
    "<!-- sss -->"
   ]
  },
  {
   "cell_type": "code",
   "execution_count": 34,
   "metadata": {
    "execution": {
     "iopub.execute_input": "2023-04-04T15:06:42.426934Z",
     "iopub.status.busy": "2023-04-04T15:06:42.426524Z",
     "iopub.status.idle": "2023-04-04T15:06:42.688215Z",
     "shell.execute_reply": "2023-04-04T15:06:42.686877Z",
     "shell.execute_reply.started": "2023-04-04T15:06:42.426900Z"
    }
   },
   "outputs": [
    {
     "data": {
      "image/png": "[encoded data removed]",
      "text/plain": [
       "<Figure size 1500x800 with 1 Axes>"
      ]
     },
     "metadata": {},
     "output_type": "display_data"
    }
   ],
   "source": [
    "plt.figure(figsize=(15,8))\n",
    "category_true = df.loc[df['is_preparatory'] == 1, 'category'].value_counts()\n",
    "category_plot = category_true.plot(kind = 'bar', color = \"#000066\", alpha = 0.5)\n",
    "\n",
    "plt.xticks(rotation = 360)\n",
    "plt.legend()\n",
    "plt.show()"
   ]
  },
  {
   "cell_type": "markdown",
   "metadata": {},
   "source": [
    "<!-- sss -->"
   ]
  },
  {
   "cell_type": "markdown",
   "metadata": {},
   "source": [
    "Here '**degree_short**' The name of the degree (Abbreviated) and '**institute_short**' is the name of institute (Abbreviated)"
   ]
  },
  {
   "cell_type": "code",
   "execution_count": 35,
   "metadata": {
    "execution": {
     "iopub.execute_input": "2023-04-04T15:07:07.640097Z",
     "iopub.status.busy": "2023-04-04T15:07:07.639660Z",
     "iopub.status.idle": "2023-04-04T15:07:08.053272Z",
     "shell.execute_reply": "2023-04-04T15:07:08.052220Z",
     "shell.execute_reply.started": "2023-04-04T15:07:07.640062Z"
    }
   },
   "outputs": [
    {
     "data": {
      "image/png": "[encoded data removed]",
      "text/plain": [
       "<Figure size 1500x800 with 1 Axes>"
      ]
     },
     "metadata": {},
     "output_type": "display_data"
    }
   ],
   "source": [
    "plt.figure(figsize=(15,8))\n",
    "year_club = df.groupby(['degree_short','institute_short']).institute_short.count().head(20).plot(kind = 'bar',color = \"#ff6600\", alpha = 0.5)\n",
    "plt.legend()\n",
    "plt.show()"
   ]
  },
  {
   "cell_type": "markdown",
   "metadata": {},
   "source": [
    "**<span style>As per above bar graph, B.Tech still seems to be the choice of most students when it comes to getting admission in IIT or NITs.</span>**"
   ]
  },
  {
   "cell_type": "markdown",
   "metadata": {},
   "source": [
    "## **<span >Institutes who provide 4 year and 5 year courses.</span>**"
   ]
  },
  {
   "cell_type": "code",
   "execution_count": 38,
   "metadata": {
    "execution": {
     "iopub.execute_input": "2023-04-04T15:07:17.129926Z",
     "iopub.status.busy": "2023-04-04T15:07:17.129510Z",
     "iopub.status.idle": "2023-04-04T15:07:17.509372Z",
     "shell.execute_reply": "2023-04-04T15:07:17.507689Z",
     "shell.execute_reply.started": "2023-04-04T15:07:17.129893Z"
    }
   },
   "outputs": [
    {
     "data": {
      "image/png": "[encoded data removed]",
      "text/plain": [
       "<Figure size 1500x800 with 1 Axes>"
      ]
     },
     "metadata": {},
     "output_type": "display_data"
    }
   ],
   "source": [
    "#Institutes with 4 year courses\n",
    "\n",
    "plt.figure(figsize=(15,8))\n",
    "\n",
    "years_true = df.loc[df['program_duration'] == '4 Years', 'institute_short'].value_counts().head(20).plot(kind = 'bar',color = \"#2ad1aa\", alpha = 0.5)\n",
    "\n",
    "plt.legend()\n",
    "plt.show()"
   ]
  },
  {
   "cell_type": "markdown",
   "metadata": {},
   "source": [
    "**<span >IIT Kharagpur has most 4 years courses to offer followed by IIT-Delhi and IIT-Kanpur.</span>**"
   ]
  },
  {
   "cell_type": "code",
   "execution_count": 39,
   "metadata": {
    "execution": {
     "iopub.execute_input": "2023-04-04T15:07:20.293155Z",
     "iopub.status.busy": "2023-04-04T15:07:20.292737Z",
     "iopub.status.idle": "2023-04-04T15:07:20.812516Z",
     "shell.execute_reply": "2023-04-04T15:07:20.811432Z",
     "shell.execute_reply.started": "2023-04-04T15:07:20.293120Z"
    }
   },
   "outputs": [
    {
     "data": {
      "image/png": "[encoded data removed]",
      "text/plain": [
       "<Figure size 1500x800 with 1 Axes>"
      ]
     },
     "metadata": {},
     "output_type": "display_data"
    }
   ],
   "source": [
    "#Institutes with 5 year courses\n",
    "\n",
    "plt.figure(figsize=(15,8))\n",
    "\n",
    "years_true = df.loc[df['program_duration'] == '5 Years', 'institute_short'].value_counts().head(20).plot(kind = 'bar',color = \"#ff4da6\", alpha = 0.5)\n",
    "plt.legend()\n",
    "plt.show()"
   ]
  },
  {
   "cell_type": "markdown",
   "metadata": {},
   "source": [
    "**<span>IIT Kharagpur has most 5 years courses to offer followed by IIT-Varanasi and IIT-Roorkee.</span>**"
   ]
  },
  {
   "cell_type": "markdown",
   "metadata": {},
   "source": [
    "***"
   ]
  },
  {
   "cell_type": "markdown",
   "metadata": {},
   "source": [
    "# **<span >⚔ Evaluation of the model</span>**\n",
    "\n",
    "Here we evaluate the model and find its error and accuracy rate based on the given feature and target data. We also find out that how the model works when we give it a specific type of data for the prediction."
   ]
  },
  {
   "cell_type": "code",
   "execution_count": 40,
   "metadata": {
    "execution": {
     "iopub.execute_input": "2023-04-04T15:07:27.343707Z",
     "iopub.status.busy": "2023-04-04T15:07:27.343264Z",
     "iopub.status.idle": "2023-04-04T15:07:27.365336Z",
     "shell.execute_reply": "2023-04-04T15:07:27.363821Z",
     "shell.execute_reply.started": "2023-04-04T15:07:27.343672Z"
    }
   },
   "outputs": [
    {
     "data": {
      "text/html": [
       "<div>\n",
       "<style scoped>\n",
       "    .dataframe tbody tr th:only-of-type {\n",
       "        vertical-align: middle;\n",
       "    }\n",
       "\n",
       "    .dataframe tbody tr th {\n",
       "        vertical-align: top;\n",
       "    }\n",
       "\n",
       "    .dataframe thead th {\n",
       "        text-align: right;\n",
       "    }\n",
       "</style>\n",
       "<table border=\"1\" class=\"dataframe\">\n",
       "  <thead>\n",
       "    <tr style=\"text-align: right;\">\n",
       "      <th></th>\n",
       "      <th>year</th>\n",
       "      <th>institute_type</th>\n",
       "      <th>round_no</th>\n",
       "      <th>quota</th>\n",
       "      <th>pool</th>\n",
       "      <th>institute_short</th>\n",
       "      <th>program_name</th>\n",
       "      <th>program_duration</th>\n",
       "      <th>degree_short</th>\n",
       "      <th>category</th>\n",
       "      <th>opening_rank</th>\n",
       "      <th>closing_rank</th>\n",
       "      <th>is_preparatory</th>\n",
       "    </tr>\n",
       "  </thead>\n",
       "  <tbody>\n",
       "    <tr>\n",
       "      <th>0</th>\n",
       "      <td>2016</td>\n",
       "      <td>IIT</td>\n",
       "      <td>6</td>\n",
       "      <td>AI</td>\n",
       "      <td>Gender-Neutral</td>\n",
       "      <td>IIT-Bombay</td>\n",
       "      <td>Aerospace Engineering</td>\n",
       "      <td>4 Years</td>\n",
       "      <td>B.Tech</td>\n",
       "      <td>GEN</td>\n",
       "      <td>838</td>\n",
       "      <td>1841</td>\n",
       "      <td>0</td>\n",
       "    </tr>\n",
       "    <tr>\n",
       "      <th>1</th>\n",
       "      <td>2016</td>\n",
       "      <td>IIT</td>\n",
       "      <td>6</td>\n",
       "      <td>AI</td>\n",
       "      <td>Gender-Neutral</td>\n",
       "      <td>IIT-Bombay</td>\n",
       "      <td>Aerospace Engineering</td>\n",
       "      <td>4 Years</td>\n",
       "      <td>B.Tech</td>\n",
       "      <td>OBC-NCL</td>\n",
       "      <td>408</td>\n",
       "      <td>1098</td>\n",
       "      <td>0</td>\n",
       "    </tr>\n",
       "    <tr>\n",
       "      <th>2</th>\n",
       "      <td>2016</td>\n",
       "      <td>IIT</td>\n",
       "      <td>6</td>\n",
       "      <td>AI</td>\n",
       "      <td>Gender-Neutral</td>\n",
       "      <td>IIT-Bombay</td>\n",
       "      <td>Aerospace Engineering</td>\n",
       "      <td>4 Years</td>\n",
       "      <td>B.Tech</td>\n",
       "      <td>SC</td>\n",
       "      <td>297</td>\n",
       "      <td>468</td>\n",
       "      <td>0</td>\n",
       "    </tr>\n",
       "    <tr>\n",
       "      <th>3</th>\n",
       "      <td>2016</td>\n",
       "      <td>IIT</td>\n",
       "      <td>6</td>\n",
       "      <td>AI</td>\n",
       "      <td>Gender-Neutral</td>\n",
       "      <td>IIT-Bombay</td>\n",
       "      <td>Aerospace Engineering</td>\n",
       "      <td>4 Years</td>\n",
       "      <td>B.Tech</td>\n",
       "      <td>ST</td>\n",
       "      <td>79</td>\n",
       "      <td>145</td>\n",
       "      <td>0</td>\n",
       "    </tr>\n",
       "    <tr>\n",
       "      <th>4</th>\n",
       "      <td>2016</td>\n",
       "      <td>IIT</td>\n",
       "      <td>6</td>\n",
       "      <td>AI</td>\n",
       "      <td>Gender-Neutral</td>\n",
       "      <td>IIT-Bombay</td>\n",
       "      <td>Aerospace Engineering</td>\n",
       "      <td>4 Years</td>\n",
       "      <td>B.Tech</td>\n",
       "      <td>GEN-PWD</td>\n",
       "      <td>94</td>\n",
       "      <td>94</td>\n",
       "      <td>0</td>\n",
       "    </tr>\n",
       "  </tbody>\n",
       "</table>\n",
       "</div>"
      ],
      "text/plain": [
       "   year institute_type  round_no quota            pool institute_short  \\\n",
       "0  2016            IIT         6    AI  Gender-Neutral      IIT-Bombay   \n",
       "1  2016            IIT         6    AI  Gender-Neutral      IIT-Bombay   \n",
       "2  2016            IIT         6    AI  Gender-Neutral      IIT-Bombay   \n",
       "3  2016            IIT         6    AI  Gender-Neutral      IIT-Bombay   \n",
       "4  2016            IIT         6    AI  Gender-Neutral      IIT-Bombay   \n",
       "\n",
       "            program_name program_duration degree_short category  opening_rank  \\\n",
       "0  Aerospace Engineering          4 Years       B.Tech      GEN           838   \n",
       "1  Aerospace Engineering          4 Years       B.Tech  OBC-NCL           408   \n",
       "2  Aerospace Engineering          4 Years       B.Tech       SC           297   \n",
       "3  Aerospace Engineering          4 Years       B.Tech       ST            79   \n",
       "4  Aerospace Engineering          4 Years       B.Tech  GEN-PWD            94   \n",
       "\n",
       "   closing_rank  is_preparatory  \n",
       "0          1841               0  \n",
       "1          1098               0  \n",
       "2           468               0  \n",
       "3           145               0  \n",
       "4            94               0  "
      ]
     },
     "execution_count": 40,
     "metadata": {},
     "output_type": "execute_result"
    }
   ],
   "source": [
    "eval_College = df\n",
    "eval_College.head()"
   ]
  },
  {
   "cell_type": "markdown",
   "metadata": {},
   "source": [
    "## **<span >Converting object values into numerical form</span>**\n",
    "\n",
    "**institute_type** - IIT : 0, NIT : 1\n",
    "\n",
    "**Quota** :-\n",
    "\n",
    "AI : All-India - 0\n",
    "\n",
    "HS : Home-State - 3\n",
    "\n",
    "OS : Other-State - 6\n",
    "\n",
    "AP : Andhra Pradesh - 1\n",
    "\n",
    "GO : Goa - 2\n",
    "\n",
    "JK : Jammu & Kashmir - 4\n",
    "\n",
    "LA : Ladakh - 5\n",
    "\n",
    "**Pool** - Gender-Neutral : 0, Female-only : 1\n",
    "\n",
    "**Category** :-\n",
    "\n",
    "GEN : General - 0\n",
    "\n",
    "OBC-NCL : Other Backward Classes-Non Creamy Layer - 4\n",
    "\n",
    "SC : Scheduled Castes - 6\n",
    "\n",
    "ST : Scheduled Tribes - 8\n",
    "\n",
    "GEN-PWD : General & Persons with Disabilities - 3\n",
    "\n",
    "OBC-NCL-PWD : Other Backward Classes & Persons with Disabilities - 5\n",
    "\n",
    "SC-PWD : Scheduled Castes & Persons with Disabilities - 7\n",
    "\n",
    "ST-PWD : Scheduled Tribes & Persons with Disabilities - 9\n",
    "\n",
    "GEN-EWS : General & Economically Weaker Section - 1\n",
    "\n",
    "GEN-EWS-PWD : General & Economically Weaker Section & Persons with Disability - 2"
   ]
  },
  {
   "cell_type": "code",
   "execution_count": 41,
   "metadata": {
    "execution": {
     "iopub.execute_input": "2023-04-04T15:07:30.148268Z",
     "iopub.status.busy": "2023-04-04T15:07:30.147792Z",
     "iopub.status.idle": "2023-04-04T15:07:30.190771Z",
     "shell.execute_reply": "2023-04-04T15:07:30.189439Z",
     "shell.execute_reply.started": "2023-04-04T15:07:30.148210Z"
    }
   },
   "outputs": [
    {
     "data": {
      "text/plain": [
       "array([0, 1], dtype=int64)"
      ]
     },
     "execution_count": 41,
     "metadata": {},
     "output_type": "execute_result"
    }
   ],
   "source": [
    "# Changing Institute type\n",
    "\n",
    "eval_College['institute_type'] = [0 if x == 'IIT' else 1 for x in eval_College['institute_type']]\n",
    "eval_College['institute_type'].unique()"
   ]
  },
  {
   "cell_type": "code",
   "execution_count": 42,
   "metadata": {
    "execution": {
     "iopub.execute_input": "2023-04-04T15:07:31.248460Z",
     "iopub.status.busy": "2023-04-04T15:07:31.248016Z",
     "iopub.status.idle": "2023-04-04T15:07:31.254715Z",
     "shell.execute_reply": "2023-04-04T15:07:31.253146Z",
     "shell.execute_reply.started": "2023-04-04T15:07:31.248422Z"
    }
   },
   "outputs": [],
   "source": [
    "# importing library for encoding\n",
    "\n",
    "from sklearn.preprocessing import LabelEncoder"
   ]
  },
  {
   "cell_type": "code",
   "execution_count": 43,
   "metadata": {
    "execution": {
     "iopub.execute_input": "2023-04-04T15:07:33.255378Z",
     "iopub.status.busy": "2023-04-04T15:07:33.254874Z",
     "iopub.status.idle": "2023-04-04T15:07:33.283416Z",
     "shell.execute_reply": "2023-04-04T15:07:33.282371Z",
     "shell.execute_reply.started": "2023-04-04T15:07:33.255337Z"
    }
   },
   "outputs": [
    {
     "data": {
      "text/plain": [
       "array([0, 3, 6, 1, 2, 4, 5])"
      ]
     },
     "execution_count": 43,
     "metadata": {},
     "output_type": "execute_result"
    }
   ],
   "source": [
    "# Labeling the quota values\n",
    "\n",
    "le = LabelEncoder()\n",
    "eval_College['quota'] = le.fit_transform(eval_College['quota'])\n",
    "eval_College['quota'].unique()"
   ]
  },
  {
   "cell_type": "code",
   "execution_count": 44,
   "metadata": {
    "execution": {
     "iopub.execute_input": "2023-04-04T15:07:35.356128Z",
     "iopub.status.busy": "2023-04-04T15:07:35.355474Z",
     "iopub.status.idle": "2023-04-04T15:07:35.395931Z",
     "shell.execute_reply": "2023-04-04T15:07:35.394505Z",
     "shell.execute_reply.started": "2023-04-04T15:07:35.356078Z"
    }
   },
   "outputs": [
    {
     "data": {
      "text/plain": [
       "array([0, 1], dtype=int64)"
      ]
     },
     "execution_count": 44,
     "metadata": {},
     "output_type": "execute_result"
    }
   ],
   "source": [
    "# changing the pool values\n",
    "\n",
    "eval_College['pool'] = [0 if x == 'Gender-Neutral' else 1 for x in eval_College['pool']]\n",
    "eval_College['pool'].unique()"
   ]
  },
  {
   "cell_type": "code",
   "execution_count": 45,
   "metadata": {
    "execution": {
     "iopub.execute_input": "2023-04-04T15:07:36.678931Z",
     "iopub.status.busy": "2023-04-04T15:07:36.678418Z",
     "iopub.status.idle": "2023-04-04T15:07:36.708770Z",
     "shell.execute_reply": "2023-04-04T15:07:36.706676Z",
     "shell.execute_reply.started": "2023-04-04T15:07:36.678890Z"
    }
   },
   "outputs": [
    {
     "data": {
      "text/plain": [
       "array([0, 4, 6, 8, 3, 5, 7, 9, 1, 2])"
      ]
     },
     "execution_count": 45,
     "metadata": {},
     "output_type": "execute_result"
    }
   ],
   "source": [
    "# Labeling the categories\n",
    "\n",
    "eval_College['category']= le.fit_transform(eval_College['category'])\n",
    "eval_College['category'].unique()"
   ]
  },
  {
   "cell_type": "code",
   "execution_count": 46,
   "metadata": {
    "execution": {
     "iopub.execute_input": "2023-04-04T15:07:42.066267Z",
     "iopub.status.busy": "2023-04-04T15:07:42.065832Z",
     "iopub.status.idle": "2023-04-04T15:07:42.095571Z",
     "shell.execute_reply": "2023-04-04T15:07:42.093805Z",
     "shell.execute_reply.started": "2023-04-04T15:07:42.066213Z"
    }
   },
   "outputs": [
    {
     "data": {
      "text/plain": [
       "array([ 4,  5, 15, 14, 16, 20,  9, 11, 10,  0, 19,  1,  3, 17,  7, 21, 13,\n",
       "       22,  2,  6,  8, 12, 18, 53, 51, 52, 50, 42, 25, 34, 33, 27, 24, 28,\n",
       "       23, 29, 30, 31, 32, 39, 36, 43, 41, 44, 45, 47, 26, 35, 37, 38, 40,\n",
       "       46, 48, 49])"
      ]
     },
     "execution_count": 46,
     "metadata": {},
     "output_type": "execute_result"
    }
   ],
   "source": [
    "# Labeling the Institute values\n",
    "\n",
    "eval_College['institute_short']= le.fit_transform(eval_College['institute_short'])\n",
    "eval_College['institute_short'].unique()"
   ]
  },
  {
   "cell_type": "code",
   "execution_count": 47,
   "metadata": {
    "execution": {
     "iopub.execute_input": "2023-04-04T15:07:43.868031Z",
     "iopub.status.busy": "2023-04-04T15:07:43.867634Z",
     "iopub.status.idle": "2023-04-04T15:07:43.896400Z",
     "shell.execute_reply": "2023-04-04T15:07:43.895003Z",
     "shell.execute_reply.started": "2023-04-04T15:07:43.867999Z"
    }
   },
   "outputs": [
    {
     "data": {
      "text/plain": [
       "array([  0,  28,  31,  32,  42,  47,  51,  52,  64,  66,  67,  98, 101,\n",
       "       107, 108, 109,  14,  24,  48,  95, 126, 129,   1,   2,   4,   7,\n",
       "        37,  46,  54,  58,  59,  72,  79,  80,  83,  86, 114,  87, 104,\n",
       "       110, 116, 118, 122, 127,  20,  45,  90,  97,  18,  19,  65, 117,\n",
       "         6,  13,  57,  74,  75, 124,  29,  61,  68,  91,  15,  17,  26,\n",
       "        36,  53,  56,  76,  92, 105, 121,   5,  62,  70, 112, 115, 119,\n",
       "        33,  34,  99, 100, 120,  35,  49, 103, 111,  10,  71, 102, 106,\n",
       "         3,  60,  81,  88,   8,  16,  44,  11,  55,  50,  69,  89,  21,\n",
       "         9,  38, 113,  22,  43,  63, 128,  30,  94,  25,  39,  84, 125,\n",
       "        41,  93,  82,  78, 123,  23,  12,  77,  73,  27,  85,  96,  40])"
      ]
     },
     "execution_count": 47,
     "metadata": {},
     "output_type": "execute_result"
    }
   ],
   "source": [
    "# Labeling the Program Name values\n",
    "\n",
    "eval_College['program_name']= le.fit_transform(eval_College['program_name'])\n",
    "eval_College['program_name'].unique()"
   ]
  },
  {
   "cell_type": "code",
   "execution_count": 48,
   "metadata": {
    "execution": {
     "iopub.execute_input": "2023-04-04T15:07:45.429860Z",
     "iopub.status.busy": "2023-04-04T15:07:45.429467Z",
     "iopub.status.idle": "2023-04-04T15:07:45.454597Z",
     "shell.execute_reply": "2023-04-04T15:07:45.453318Z",
     "shell.execute_reply.started": "2023-04-04T15:07:45.429828Z"
    }
   },
   "outputs": [
    {
     "data": {
      "text/plain": [
       "array([ 4,  7,  5, 11,  0, 10,  1,  2,  6,  3,  9,  8])"
      ]
     },
     "execution_count": 48,
     "metadata": {},
     "output_type": "execute_result"
    }
   ],
   "source": [
    "# Labeling the Degree values\n",
    "\n",
    "eval_College['degree_short']= le.fit_transform(eval_College['degree_short'])\n",
    "eval_College['degree_short'].unique()"
   ]
  },
  {
   "cell_type": "code",
   "execution_count": 49,
   "metadata": {
    "execution": {
     "iopub.execute_input": "2023-04-04T15:07:46.612791Z",
     "iopub.status.busy": "2023-04-04T15:07:46.612364Z",
     "iopub.status.idle": "2023-04-04T15:07:46.629411Z",
     "shell.execute_reply": "2023-04-04T15:07:46.627904Z",
     "shell.execute_reply.started": "2023-04-04T15:07:46.612753Z"
    }
   },
   "outputs": [],
   "source": [
    "# Target data\n",
    "\n",
    "y = eval_College[['institute_short', 'degree_short', 'program_name']]"
   ]
  },
  {
   "cell_type": "code",
   "execution_count": 50,
   "metadata": {
    "execution": {
     "iopub.execute_input": "2023-04-04T15:07:47.890533Z",
     "iopub.status.busy": "2023-04-04T15:07:47.889213Z",
     "iopub.status.idle": "2023-04-04T15:07:47.898629Z",
     "shell.execute_reply": "2023-04-04T15:07:47.897310Z",
     "shell.execute_reply.started": "2023-04-04T15:07:47.890447Z"
    }
   },
   "outputs": [],
   "source": [
    "# Featured data\n",
    "\n",
    "X = eval_College[['category', 'quota', 'pool', 'institute_type', 'round_no',\n",
    "       'opening_rank', 'closing_rank']]"
   ]
  },
  {
   "cell_type": "code",
   "execution_count": 51,
   "metadata": {
    "execution": {
     "iopub.execute_input": "2023-04-04T15:07:49.287524Z",
     "iopub.status.busy": "2023-04-04T15:07:49.287100Z",
     "iopub.status.idle": "2023-04-04T15:07:49.305524Z",
     "shell.execute_reply": "2023-04-04T15:07:49.304408Z",
     "shell.execute_reply.started": "2023-04-04T15:07:49.287487Z"
    }
   },
   "outputs": [],
   "source": [
    "# Spilliting the data into training and testing dataset\n",
    "\n",
    "from sklearn.model_selection import train_test_split\n",
    "X_train, X_test, y_train, y_test = train_test_split(X, y, train_size = 0.8)"
   ]
  },
  {
   "cell_type": "code",
   "execution_count": 52,
   "metadata": {
    "execution": {
     "iopub.execute_input": "2023-04-04T15:07:59.134146Z",
     "iopub.status.busy": "2023-04-04T15:07:59.133296Z",
     "iopub.status.idle": "2023-04-04T15:07:59.138849Z",
     "shell.execute_reply": "2023-04-04T15:07:59.137662Z",
     "shell.execute_reply.started": "2023-04-04T15:07:59.134104Z"
    }
   },
   "outputs": [],
   "source": [
    "# Importing library for mdoel generation\n",
    "\n",
    "from sklearn.neighbors import KNeighborsClassifier"
   ]
  },
  {
   "cell_type": "code",
   "execution_count": 53,
   "metadata": {
    "execution": {
     "iopub.execute_input": "2023-04-04T15:08:02.067095Z",
     "iopub.status.busy": "2023-04-04T15:08:02.066648Z",
     "iopub.status.idle": "2023-04-04T15:08:02.073149Z",
     "shell.execute_reply": "2023-04-04T15:08:02.071805Z",
     "shell.execute_reply.started": "2023-04-04T15:08:02.067058Z"
    }
   },
   "outputs": [],
   "source": [
    "# Regenerating the model once again\n",
    "\n",
    "model = KNeighborsClassifier()"
   ]
  },
  {
   "cell_type": "code",
   "execution_count": 54,
   "metadata": {
    "execution": {
     "iopub.execute_input": "2023-04-04T15:08:04.302417Z",
     "iopub.status.busy": "2023-04-04T15:08:04.301406Z",
     "iopub.status.idle": "2023-04-04T15:08:05.142512Z",
     "shell.execute_reply": "2023-04-04T15:08:05.141178Z",
     "shell.execute_reply.started": "2023-04-04T15:08:04.302353Z"
    }
   },
   "outputs": [
    {
     "data": {
      "text/plain": [
       "KNeighborsClassifier()"
      ]
     },
     "execution_count": 54,
     "metadata": {},
     "output_type": "execute_result"
    }
   ],
   "source": [
    "model.fit(X_train, y_train)"
   ]
  },
  {
   "cell_type": "code",
   "execution_count": 55,
   "metadata": {
    "execution": {
     "iopub.execute_input": "2023-04-04T15:08:07.224640Z",
     "iopub.status.busy": "2023-04-04T15:08:07.224190Z",
     "iopub.status.idle": "2023-04-04T15:08:07.273857Z",
     "shell.execute_reply": "2023-04-04T15:08:07.272620Z",
     "shell.execute_reply.started": "2023-04-04T15:08:07.224605Z"
    }
   },
   "outputs": [
    {
     "data": {
      "text/plain": [
       "array([[ 27,   3, 123],\n",
       "       [ 37,   4,  98],\n",
       "       [ 15,   4, 110],\n",
       "       ...,\n",
       "       [ 16,   5,   0],\n",
       "       [  0,   5,  95],\n",
       "       [ 46,  11,  31]])"
      ]
     },
     "execution_count": 55,
     "metadata": {},
     "output_type": "execute_result"
    }
   ],
   "source": [
    "# Predicting the model again in numerical terms\n",
    "\n",
    "y_pred = model.predict(X_test)\n",
    "y_pred"
   ]
  },
  {
   "cell_type": "code",
   "execution_count": 56,
   "metadata": {
    "execution": {
     "iopub.execute_input": "2023-04-04T15:08:09.003747Z",
     "iopub.status.busy": "2023-04-04T15:08:09.003008Z",
     "iopub.status.idle": "2023-04-04T15:08:09.013006Z",
     "shell.execute_reply": "2023-04-04T15:08:09.011543Z",
     "shell.execute_reply.started": "2023-04-04T15:08:09.003706Z"
    }
   },
   "outputs": [
    {
     "name": "stdout",
     "output_type": "stream",
     "text": [
      "mean_absolute_error :  4.823198891625616\n"
     ]
    }
   ],
   "source": [
    "# Checking the Mean Absolute error of whole model\n",
    "\n",
    "from sklearn.metrics import mean_absolute_error\n",
    "print(\"mean_absolute_error : \", mean_absolute_error(y_pred, y_test))"
   ]
  },
  {
   "cell_type": "code",
   "execution_count": 57,
   "metadata": {
    "execution": {
     "iopub.execute_input": "2023-04-04T15:10:23.204961Z",
     "iopub.status.busy": "2023-04-04T15:10:23.204518Z",
     "iopub.status.idle": "2023-04-04T15:10:23.259806Z",
     "shell.execute_reply": "2023-04-04T15:10:23.258241Z",
     "shell.execute_reply.started": "2023-04-04T15:10:23.204924Z"
    }
   },
   "outputs": [
    {
     "name": "stdout",
     "output_type": "stream",
     "text": [
      "              precision    recall  f1-score   support\n",
      "\n",
      "           0       0.65      0.53      0.59       567\n",
      "           1       0.56      0.47      0.51       344\n",
      "           2       0.68      0.53      0.60        77\n",
      "           3       0.71      0.60      0.65       284\n",
      "           4       0.80      0.75      0.77       606\n",
      "           5       0.82      0.73      0.78       686\n",
      "           6       0.76      0.59      0.66        90\n",
      "           7       0.65      0.57      0.61       110\n",
      "           8       0.72      0.67      0.69        66\n",
      "           9       0.64      0.67      0.65       231\n",
      "          10       0.67      0.67      0.67       230\n",
      "          11       0.70      0.66      0.68        91\n",
      "          12       0.62      0.71      0.66        99\n",
      "          13       0.70      0.72      0.71       127\n",
      "          14       0.79      0.76      0.78       514\n",
      "          15       0.79      0.77      0.78      1198\n",
      "          16       0.70      0.77      0.73       427\n",
      "          17       0.66      0.66      0.66       121\n",
      "          18       0.61      0.63      0.62        79\n",
      "          19       0.70      0.78      0.74       126\n",
      "          20       0.77      0.80      0.79       533\n",
      "          21       0.55      0.68      0.61       119\n",
      "          22       0.63      0.68      0.65        80\n",
      "          23       0.85      0.72      0.78       352\n",
      "          24       0.75      0.66      0.70       352\n",
      "          25       0.00      0.00      0.00         4\n",
      "          26       0.84      0.80      0.82       137\n",
      "          27       0.73      0.78      0.75       349\n",
      "          28       0.77      0.77      0.77       402\n",
      "          29       0.75      0.70      0.73        88\n",
      "          30       0.75      0.75      0.75       351\n",
      "          31       0.78      0.72      0.75       157\n",
      "          32       0.78      0.76      0.77       425\n",
      "          33       0.74      0.75      0.74       280\n",
      "          34       0.75      0.76      0.75       336\n",
      "          35       0.75      0.81      0.78       238\n",
      "          36       0.76      0.80      0.78       320\n",
      "          37       0.68      0.79      0.73       234\n",
      "          38       0.83      0.83      0.83       116\n",
      "          39       0.76      0.81      0.78        96\n",
      "          40       0.67      0.79      0.73        73\n",
      "          41       0.82      0.75      0.78        75\n",
      "          42       0.00      0.00      0.00         0\n",
      "          43       0.71      0.79      0.75       223\n",
      "          44       0.79      0.78      0.78       126\n",
      "          45       0.74      0.76      0.75       393\n",
      "          46       0.74      0.77      0.75       573\n",
      "          47       0.71      0.76      0.74        92\n",
      "          48       0.70      0.79      0.75       199\n",
      "          49       0.61      0.77      0.68       172\n",
      "          50       0.00      0.00      0.00         0\n",
      "          51       0.02      0.10      0.03        10\n",
      "          52       0.00      0.00      0.00         2\n",
      "          53       0.02      0.08      0.03        12\n",
      "\n",
      "    accuracy                           0.73     12992\n",
      "   macro avg       0.64      0.64      0.64     12992\n",
      "weighted avg       0.74      0.73      0.73     12992\n",
      "\n"
     ]
    }
   ],
   "source": [
    "# Accuracy for Institute short\n",
    "\n",
    "from sklearn.metrics import classification_report \n",
    "y_pred1 = y_pred[:,0]\n",
    "y_test1 = y_test.loc[:,\"institute_short\"]\n",
    "print(classification_report(y_pred1, y_test1))"
   ]
  },
  {
   "cell_type": "code",
   "execution_count": 58,
   "metadata": {
    "execution": {
     "iopub.execute_input": "2023-04-04T15:10:50.193463Z",
     "iopub.status.busy": "2023-04-04T15:10:50.192211Z",
     "iopub.status.idle": "2023-04-04T15:10:50.202282Z",
     "shell.execute_reply": "2023-04-04T15:10:50.200581Z",
     "shell.execute_reply.started": "2023-04-04T15:10:50.193412Z"
    }
   },
   "outputs": [
    {
     "data": {
      "text/plain": [
       "4.053956280788177"
      ]
     },
     "execution_count": 58,
     "metadata": {},
     "output_type": "execute_result"
    }
   ],
   "source": [
    "mean_absolute_error(y_pred1, y_test1)"
   ]
  },
  {
   "cell_type": "code",
   "execution_count": 59,
   "metadata": {
    "execution": {
     "iopub.execute_input": "2023-04-04T15:08:15.589980Z",
     "iopub.status.busy": "2023-04-04T15:08:15.589472Z",
     "iopub.status.idle": "2023-04-04T15:08:15.600528Z",
     "shell.execute_reply": "2023-04-04T15:08:15.599341Z",
     "shell.execute_reply.started": "2023-04-04T15:08:15.589944Z"
    }
   },
   "outputs": [
    {
     "data": {
      "text/plain": [
       "0.7279094827586207"
      ]
     },
     "execution_count": 59,
     "metadata": {},
     "output_type": "execute_result"
    }
   ],
   "source": [
    "from sklearn.metrics import accuracy_score\n",
    "Accuracy1 = accuracy_score(y_pred1, y_test1)\n",
    "Accuracy1"
   ]
  },
  {
   "cell_type": "code",
   "execution_count": 60,
   "metadata": {
    "execution": {
     "iopub.execute_input": "2023-04-04T15:08:17.374447Z",
     "iopub.status.busy": "2023-04-04T15:08:17.373699Z",
     "iopub.status.idle": "2023-04-04T15:08:17.430750Z",
     "shell.execute_reply": "2023-04-04T15:08:17.429500Z",
     "shell.execute_reply.started": "2023-04-04T15:08:17.374408Z"
    }
   },
   "outputs": [
    {
     "name": "stdout",
     "output_type": "stream",
     "text": [
      "              precision    recall  f1-score   support\n",
      "\n",
      "           0       0.70      0.83      0.76       221\n",
      "           2       0.00      0.00      0.00         0\n",
      "           3       0.68      0.90      0.78        21\n",
      "           4       0.97      0.94      0.96     10708\n",
      "           5       0.71      0.83      0.77      1036\n",
      "           6       1.00      0.85      0.92       151\n",
      "           7       0.87      0.85      0.86       452\n",
      "           8       0.77      0.64      0.70        36\n",
      "           9       0.81      0.80      0.80       198\n",
      "          10       0.62      0.86      0.72        91\n",
      "          11       0.38      0.79      0.51        78\n",
      "\n",
      "    accuracy                           0.92     12992\n",
      "   macro avg       0.68      0.75      0.71     12992\n",
      "weighted avg       0.93      0.92      0.93     12992\n",
      "\n"
     ]
    }
   ],
   "source": [
    "# Accuracy for Program Name\n",
    "\n",
    "from sklearn.metrics import classification_report \n",
    "y_pred2 = y_pred[:,1]\n",
    "y_test2 = y_test.loc[:,\"degree_short\"]\n",
    "print(classification_report(y_pred2, y_test2))"
   ]
  },
  {
   "cell_type": "code",
   "execution_count": 61,
   "metadata": {
    "execution": {
     "iopub.execute_input": "2023-04-04T15:11:52.130918Z",
     "iopub.status.busy": "2023-04-04T15:11:52.130523Z",
     "iopub.status.idle": "2023-04-04T15:11:52.140394Z",
     "shell.execute_reply": "2023-04-04T15:11:52.138971Z",
     "shell.execute_reply.started": "2023-04-04T15:11:52.130885Z"
    }
   },
   "outputs": [
    {
     "data": {
      "text/plain": [
       "0.22344519704433496"
      ]
     },
     "execution_count": 61,
     "metadata": {},
     "output_type": "execute_result"
    }
   ],
   "source": [
    "mean_absolute_error(y_pred2, y_test2)"
   ]
  },
  {
   "cell_type": "code",
   "execution_count": 62,
   "metadata": {
    "execution": {
     "iopub.execute_input": "2023-04-04T15:08:19.326720Z",
     "iopub.status.busy": "2023-04-04T15:08:19.326274Z",
     "iopub.status.idle": "2023-04-04T15:08:19.338038Z",
     "shell.execute_reply": "2023-04-04T15:08:19.336814Z",
     "shell.execute_reply.started": "2023-04-04T15:08:19.326683Z"
    }
   },
   "outputs": [
    {
     "data": {
      "text/plain": [
       "0.9228756157635468"
      ]
     },
     "execution_count": 62,
     "metadata": {},
     "output_type": "execute_result"
    }
   ],
   "source": [
    "from sklearn.metrics import accuracy_score\n",
    "Accuracy2 = accuracy_score(y_pred2, y_test2)\n",
    "Accuracy2"
   ]
  },
  {
   "cell_type": "code",
   "execution_count": 63,
   "metadata": {
    "execution": {
     "iopub.execute_input": "2023-04-04T15:08:22.044012Z",
     "iopub.status.busy": "2023-04-04T15:08:22.043584Z",
     "iopub.status.idle": "2023-04-04T15:08:22.077769Z",
     "shell.execute_reply": "2023-04-04T15:08:22.076267Z",
     "shell.execute_reply.started": "2023-04-04T15:08:22.043978Z"
    }
   },
   "outputs": [
    {
     "name": "stdout",
     "output_type": "stream",
     "text": [
      "              precision    recall  f1-score   support\n",
      "\n",
      "           0       0.78      0.62      0.69       247\n",
      "           1       0.79      0.63      0.70        35\n",
      "           2       0.71      0.62      0.67        24\n",
      "           3       0.00      0.00      0.00         1\n",
      "           4       0.67      0.66      0.67        50\n",
      "           5       0.40      0.33      0.36        18\n",
      "           6       0.00      0.00      0.00         3\n",
      "           7       0.73      0.61      0.67       309\n",
      "           8       0.93      0.69      0.79        36\n",
      "           9       0.95      0.78      0.86        27\n",
      "          10       0.77      0.56      0.65        36\n",
      "          11       0.63      0.81      0.71        21\n",
      "          12       0.81      0.75      0.78        59\n",
      "          13       0.70      0.64      0.67       223\n",
      "          14       0.00      0.00      0.00         3\n",
      "          15       0.64      0.90      0.75        10\n",
      "          16       0.00      0.00      0.00         2\n",
      "          17       0.47      0.67      0.55        12\n",
      "          18       0.75      0.77      0.76        31\n",
      "          19       0.75      0.81      0.78        26\n",
      "          20       0.74      0.66      0.70        35\n",
      "          21       0.73      0.73      0.73        11\n",
      "          22       1.00      0.70      0.82        43\n",
      "          23       0.91      0.53      0.67        19\n",
      "          24       0.84      0.66      0.74       141\n",
      "          25       0.27      0.60      0.37         5\n",
      "          26       0.62      0.57      0.59        60\n",
      "          27       0.92      0.80      0.86        15\n",
      "          28       0.73      0.69      0.71       967\n",
      "          29       0.59      0.72      0.65        18\n",
      "          30       1.00      0.87      0.93        15\n",
      "          31       0.74      0.66      0.70       174\n",
      "          32       0.74      0.70      0.72      1358\n",
      "          33       0.75      0.90      0.82        10\n",
      "          34       0.67      0.67      0.67         9\n",
      "          35       0.53      0.73      0.62        11\n",
      "          36       0.00      0.00      0.00         2\n",
      "          37       0.68      0.78      0.72        27\n",
      "          38       0.82      0.74      0.78        19\n",
      "          39       1.00      0.83      0.91        12\n",
      "          40       1.00      0.82      0.90        11\n",
      "          41       0.71      0.75      0.73        36\n",
      "          42       0.78      0.72      0.75      1832\n",
      "          43       0.87      0.72      0.79        18\n",
      "          44       0.64      0.54      0.58        13\n",
      "          45       0.70      0.72      0.71        29\n",
      "          46       0.84      0.83      0.84       141\n",
      "          47       0.74      0.73      0.74      1093\n",
      "          48       0.85      0.79      0.81        42\n",
      "          49       0.64      0.90      0.75        10\n",
      "          51       0.00      0.00      0.00         0\n",
      "          52       0.00      0.00      0.00         0\n",
      "          53       0.55      0.73      0.63        15\n",
      "          54       0.78      0.70      0.74        30\n",
      "          55       0.68      0.77      0.73       235\n",
      "          56       0.63      0.75      0.69        16\n",
      "          57       0.72      0.78      0.75       977\n",
      "          58       0.83      0.81      0.82        36\n",
      "          59       0.83      0.85      0.84        34\n",
      "          61       0.65      0.94      0.77        18\n",
      "          62       0.76      0.79      0.77       104\n",
      "          63       0.93      0.83      0.88        30\n",
      "          64       0.81      0.83      0.82        35\n",
      "          65       0.73      0.86      0.79        28\n",
      "          66       0.73      0.81      0.77       296\n",
      "          67       0.00      0.00      0.00         0\n",
      "          68       0.61      0.69      0.65        16\n",
      "          69       0.88      0.85      0.87        34\n",
      "          70       0.62      0.87      0.72        15\n",
      "          71       0.88      0.85      0.86        26\n",
      "          72       0.74      0.81      0.77        21\n",
      "          73       0.83      0.78      0.81        32\n",
      "          74       0.71      0.81      0.76        27\n",
      "          75       0.82      1.00      0.90        27\n",
      "          76       0.79      0.73      0.76        26\n",
      "          77       0.86      0.83      0.85        30\n",
      "          78       0.80      0.86      0.83        28\n",
      "          79       0.79      0.79      0.79        29\n",
      "          80       0.92      0.82      0.87        28\n",
      "          82       0.71      0.80      0.75       143\n",
      "          83       0.83      0.60      0.70        50\n",
      "          84       0.50      0.87      0.63        23\n",
      "          85       0.80      1.00      0.89        12\n",
      "          86       0.68      0.86      0.76        22\n",
      "          87       0.86      0.92      0.89        26\n",
      "          88       0.00      0.00      0.00         0\n",
      "          89       0.95      0.77      0.85        52\n",
      "          90       0.77      0.83      0.80       101\n",
      "          91       0.71      0.81      0.76        43\n",
      "          92       0.65      0.79      0.71        14\n",
      "          93       0.60      0.79      0.68        19\n",
      "          94       0.97      0.64      0.77        44\n",
      "          95       0.69      0.81      0.75       250\n",
      "          96       1.00      0.89      0.94        28\n",
      "          97       0.86      0.83      0.85        30\n",
      "          98       0.71      0.75      0.73      1248\n",
      "          99       0.71      0.62      0.67        16\n",
      "         100       0.50      0.80      0.62        10\n",
      "         101       0.75      0.84      0.79        25\n",
      "         102       0.00      0.00      0.00         0\n",
      "         103       0.75      1.00      0.86         9\n",
      "         104       0.89      0.93      0.91        27\n",
      "         105       0.71      0.75      0.73        32\n",
      "         106       0.87      0.95      0.91        21\n",
      "         107       0.65      0.82      0.72        38\n",
      "         108       0.00      0.00      0.00         0\n",
      "         109       0.00      0.00      0.00         0\n",
      "         110       0.68      0.81      0.74       370\n",
      "         111       0.00      0.00      0.00         0\n",
      "         112       0.00      0.00      0.00         0\n",
      "         113       0.78      0.50      0.61        14\n",
      "         114       0.68      0.73      0.70       181\n",
      "         115       0.65      0.72      0.68        18\n",
      "         116       0.77      0.82      0.79        28\n",
      "         117       0.65      0.86      0.74        28\n",
      "         118       0.79      0.88      0.83        56\n",
      "         119       0.75      0.75      0.75        16\n",
      "         120       0.64      0.90      0.75        20\n",
      "         121       0.00      0.00      0.00         0\n",
      "         122       0.72      0.78      0.75       143\n",
      "         123       0.68      0.90      0.78        21\n",
      "         124       0.00      0.00      0.00         0\n",
      "         125       0.76      0.81      0.79        54\n",
      "         126       0.71      0.78      0.74       130\n",
      "         127       0.00      0.00      0.00         0\n",
      "         128       1.00      0.96      0.98        25\n",
      "         129       0.80      0.76      0.78        63\n",
      "\n",
      "    accuracy                           0.74     12992\n",
      "   macro avg       0.65      0.67      0.65     12992\n",
      "weighted avg       0.74      0.74      0.74     12992\n",
      "\n"
     ]
    }
   ],
   "source": [
    "# Accuracy for Degree \n",
    "\n",
    "from sklearn.metrics import classification_report \n",
    "y_pred3 = y_pred[:,2]\n",
    "y_test3 = y_test.loc[:,\"program_name\"]\n",
    "print(classification_report(y_pred3, y_test3))"
   ]
  },
  {
   "cell_type": "code",
   "execution_count": 64,
   "metadata": {
    "execution": {
     "iopub.execute_input": "2023-04-04T15:12:13.008682Z",
     "iopub.status.busy": "2023-04-04T15:12:13.007058Z",
     "iopub.status.idle": "2023-04-04T15:12:13.017950Z",
     "shell.execute_reply": "2023-04-04T15:12:13.016642Z",
     "shell.execute_reply.started": "2023-04-04T15:12:13.008618Z"
    }
   },
   "outputs": [
    {
     "data": {
      "text/plain": [
       "10.192195197044335"
      ]
     },
     "execution_count": 64,
     "metadata": {},
     "output_type": "execute_result"
    }
   ],
   "source": [
    "mean_absolute_error(y_pred3, y_test3)"
   ]
  },
  {
   "cell_type": "code",
   "execution_count": 65,
   "metadata": {
    "execution": {
     "iopub.execute_input": "2023-04-04T15:08:24.094829Z",
     "iopub.status.busy": "2023-04-04T15:08:24.094341Z",
     "iopub.status.idle": "2023-04-04T15:08:24.104976Z",
     "shell.execute_reply": "2023-04-04T15:08:24.103337Z",
     "shell.execute_reply.started": "2023-04-04T15:08:24.094789Z"
    }
   },
   "outputs": [
    {
     "data": {
      "text/plain": [
       "0.7369919950738916"
      ]
     },
     "execution_count": 65,
     "metadata": {},
     "output_type": "execute_result"
    }
   ],
   "source": [
    "from sklearn.metrics import accuracy_score\n",
    "Accuracy3 = accuracy_score(y_pred3, y_test3)\n",
    "Accuracy3"
   ]
  },
  {
   "cell_type": "code",
   "execution_count": 66,
   "metadata": {
    "execution": {
     "iopub.execute_input": "2023-04-04T15:15:25.415825Z",
     "iopub.status.busy": "2023-04-04T15:15:25.414454Z",
     "iopub.status.idle": "2023-04-04T15:15:25.423490Z",
     "shell.execute_reply": "2023-04-04T15:15:25.422355Z",
     "shell.execute_reply.started": "2023-04-04T15:15:25.415773Z"
    }
   },
   "outputs": [
    {
     "data": {
      "text/plain": [
       "0.795925697865353"
      ]
     },
     "execution_count": 66,
     "metadata": {},
     "output_type": "execute_result"
    }
   ],
   "source": [
    "# total accuracy of the model\n",
    "\n",
    "Mean_Accuracy = (Accuracy1 + Accuracy2 + Accuracy3) / 3\n",
    "Mean_Accuracy"
   ]
  },
  {
   "cell_type": "markdown",
   "metadata": {},
   "source": [
    "**<span style=\"color:#006600;\">Here we evaluate our model and find that it is really good and a realistic model. Firstly, we extract the individual Accuracy of the target data and then conclude the mean accuracy of the target data. </span>**\n",
    "\n",
    "**<span style=\"color:#fffff;\">Accuracy of Institute Name </span>**\n",
    "\n",
    "**<span style=\"color:#fffff;\">Accuracy of Program Name </span>**\n",
    "\n",
    "**<span style=\"color:#fffff;\">Accuracy of degree </span>**\n",
    "\n",
    "**<span style=\"color:#006600;\">After calculating the individual accuracy, we will find out the total or mean accuracy of the model.</span>**\n",
    "\n",
    "**<span style=\"color:#fffff;\">Accuracy of the Model - </span>**\n",
    "\n",
    "***"
   ]
  },
  {
   "cell_type": "markdown",
   "metadata": {},
   "source": [
    "# <h1 ><center>Prediction of College : IIT-NIT category wise cut-off data</center></h1> "
   ]
  },
  {
   "cell_type": "markdown",
   "metadata": {},
   "source": [
    "## **<span >Prediction of Colleges</span>**\n",
    "\n",
    "The Colleges are predicted by the given featured dataset in which feature like Institute type, Round Number, Quota, Category, Opening Rank and Closing Rank is calculated to find the College, Branch and Degree."
   ]
  },
  {
   "cell_type": "code",
   "execution_count": 68,
   "metadata": {
    "execution": {
     "iopub.execute_input": "2023-04-04T15:15:34.282335Z",
     "iopub.status.busy": "2023-04-04T15:15:34.281936Z",
     "iopub.status.idle": "2023-04-04T15:15:34.413357Z",
     "shell.execute_reply": "2023-04-04T15:15:34.412179Z",
     "shell.execute_reply.started": "2023-04-04T15:15:34.282303Z"
    }
   },
   "outputs": [
    {
     "data": {
      "text/html": [
       "<div>\n",
       "<style scoped>\n",
       "    .dataframe tbody tr th:only-of-type {\n",
       "        vertical-align: middle;\n",
       "    }\n",
       "\n",
       "    .dataframe tbody tr th {\n",
       "        vertical-align: top;\n",
       "    }\n",
       "\n",
       "    .dataframe thead th {\n",
       "        text-align: right;\n",
       "    }\n",
       "</style>\n",
       "<table border=\"1\" class=\"dataframe\">\n",
       "  <thead>\n",
       "    <tr style=\"text-align: right;\">\n",
       "      <th></th>\n",
       "      <th>Unnamed: 0</th>\n",
       "      <th>year</th>\n",
       "      <th>institute_type</th>\n",
       "      <th>round_no</th>\n",
       "      <th>quota</th>\n",
       "      <th>pool</th>\n",
       "      <th>institute_short</th>\n",
       "      <th>program_name</th>\n",
       "      <th>program_duration</th>\n",
       "      <th>degree_short</th>\n",
       "      <th>category</th>\n",
       "      <th>opening_rank</th>\n",
       "      <th>closing_rank</th>\n",
       "      <th>is_preparatory</th>\n",
       "    </tr>\n",
       "  </thead>\n",
       "  <tbody>\n",
       "    <tr>\n",
       "      <th>0</th>\n",
       "      <td>0</td>\n",
       "      <td>2016</td>\n",
       "      <td>IIT</td>\n",
       "      <td>6</td>\n",
       "      <td>AI</td>\n",
       "      <td>Gender-Neutral</td>\n",
       "      <td>IIT-Bombay</td>\n",
       "      <td>Aerospace Engineering</td>\n",
       "      <td>4 Years</td>\n",
       "      <td>B.Tech</td>\n",
       "      <td>GEN</td>\n",
       "      <td>838</td>\n",
       "      <td>1841</td>\n",
       "      <td>0</td>\n",
       "    </tr>\n",
       "    <tr>\n",
       "      <th>1</th>\n",
       "      <td>1</td>\n",
       "      <td>2016</td>\n",
       "      <td>IIT</td>\n",
       "      <td>6</td>\n",
       "      <td>AI</td>\n",
       "      <td>Gender-Neutral</td>\n",
       "      <td>IIT-Bombay</td>\n",
       "      <td>Aerospace Engineering</td>\n",
       "      <td>4 Years</td>\n",
       "      <td>B.Tech</td>\n",
       "      <td>OBC-NCL</td>\n",
       "      <td>408</td>\n",
       "      <td>1098</td>\n",
       "      <td>0</td>\n",
       "    </tr>\n",
       "    <tr>\n",
       "      <th>2</th>\n",
       "      <td>2</td>\n",
       "      <td>2016</td>\n",
       "      <td>IIT</td>\n",
       "      <td>6</td>\n",
       "      <td>AI</td>\n",
       "      <td>Gender-Neutral</td>\n",
       "      <td>IIT-Bombay</td>\n",
       "      <td>Aerospace Engineering</td>\n",
       "      <td>4 Years</td>\n",
       "      <td>B.Tech</td>\n",
       "      <td>SC</td>\n",
       "      <td>297</td>\n",
       "      <td>468</td>\n",
       "      <td>0</td>\n",
       "    </tr>\n",
       "    <tr>\n",
       "      <th>3</th>\n",
       "      <td>3</td>\n",
       "      <td>2016</td>\n",
       "      <td>IIT</td>\n",
       "      <td>6</td>\n",
       "      <td>AI</td>\n",
       "      <td>Gender-Neutral</td>\n",
       "      <td>IIT-Bombay</td>\n",
       "      <td>Aerospace Engineering</td>\n",
       "      <td>4 Years</td>\n",
       "      <td>B.Tech</td>\n",
       "      <td>ST</td>\n",
       "      <td>79</td>\n",
       "      <td>145</td>\n",
       "      <td>0</td>\n",
       "    </tr>\n",
       "    <tr>\n",
       "      <th>4</th>\n",
       "      <td>4</td>\n",
       "      <td>2016</td>\n",
       "      <td>IIT</td>\n",
       "      <td>6</td>\n",
       "      <td>AI</td>\n",
       "      <td>Gender-Neutral</td>\n",
       "      <td>IIT-Bombay</td>\n",
       "      <td>Aerospace Engineering</td>\n",
       "      <td>4 Years</td>\n",
       "      <td>B.Tech</td>\n",
       "      <td>GEN-PWD</td>\n",
       "      <td>94</td>\n",
       "      <td>94</td>\n",
       "      <td>0</td>\n",
       "    </tr>\n",
       "  </tbody>\n",
       "</table>\n",
       "</div>"
      ],
      "text/plain": [
       "   Unnamed: 0  year institute_type  round_no quota            pool  \\\n",
       "0           0  2016            IIT         6    AI  Gender-Neutral   \n",
       "1           1  2016            IIT         6    AI  Gender-Neutral   \n",
       "2           2  2016            IIT         6    AI  Gender-Neutral   \n",
       "3           3  2016            IIT         6    AI  Gender-Neutral   \n",
       "4           4  2016            IIT         6    AI  Gender-Neutral   \n",
       "\n",
       "  institute_short           program_name program_duration degree_short  \\\n",
       "0      IIT-Bombay  Aerospace Engineering          4 Years       B.Tech   \n",
       "1      IIT-Bombay  Aerospace Engineering          4 Years       B.Tech   \n",
       "2      IIT-Bombay  Aerospace Engineering          4 Years       B.Tech   \n",
       "3      IIT-Bombay  Aerospace Engineering          4 Years       B.Tech   \n",
       "4      IIT-Bombay  Aerospace Engineering          4 Years       B.Tech   \n",
       "\n",
       "  category  opening_rank  closing_rank  is_preparatory  \n",
       "0      GEN           838          1841               0  \n",
       "1  OBC-NCL           408          1098               0  \n",
       "2       SC           297           468               0  \n",
       "3       ST            79           145               0  \n",
       "4  GEN-PWD            94            94               0  "
      ]
     },
     "execution_count": 68,
     "metadata": {},
     "output_type": "execute_result"
    }
   ],
   "source": [
    "pred_College = pd.read_csv(\"iit-and-nit-colleges-admission-criteria-version-2.csv\")\n",
    "pred_College.head()"
   ]
  },
  {
   "cell_type": "markdown",
   "metadata": {},
   "source": [
    "## **<span>🔁 Converting object values into numerical form</span>**\n",
    "\n",
    "**institute_type** - IIT : 0, NIT : 1\n",
    "\n",
    "**Quota** :-\n",
    "\n",
    "AI : All-India - 0\n",
    "\n",
    "HS : Home-State - 3\n",
    "\n",
    "OS : Other-State - 6\n",
    "\n",
    "AP : Andhra Pradesh - 1\n",
    "\n",
    "GO : Goa - 2\n",
    "\n",
    "JK : Jammu & Kashmir - 4\n",
    "\n",
    "LA : Ladakh - 5\n",
    "\n",
    "**Pool** - Gender-Neutral : 0, Female-only : 1\n",
    "\n",
    "**Category** :-\n",
    "\n",
    "GEN : General - 0\n",
    "\n",
    "OBC-NCL : Other Backward Classes-Non Creamy Layer - 4\n",
    "\n",
    "SC : Scheduled Castes - 6\n",
    "\n",
    "ST : Scheduled Tribes - 8\n",
    "\n",
    "GEN-PWD : General & Persons with Disabilities - 3\n",
    "\n",
    "OBC-NCL-PWD : Other Backward Classes & Persons with Disabilities - 5\n",
    "\n",
    "SC-PWD : Scheduled Castes & Persons with Disabilities - 7\n",
    "\n",
    "ST-PWD : Scheduled Tribes & Persons with Disabilities - 9\n",
    "\n",
    "GEN-EWS : General & Economically Weaker Section - 1\n",
    "\n",
    "GEN-EWS-PWD : General & Economically Weaker Section & Persons with Disability - 2"
   ]
  },
  {
   "cell_type": "code",
   "execution_count": 69,
   "metadata": {
    "execution": {
     "iopub.execute_input": "2023-04-04T15:15:38.078563Z",
     "iopub.status.busy": "2023-04-04T15:15:38.078100Z",
     "iopub.status.idle": "2023-04-04T15:15:38.118342Z",
     "shell.execute_reply": "2023-04-04T15:15:38.117044Z",
     "shell.execute_reply.started": "2023-04-04T15:15:38.078525Z"
    }
   },
   "outputs": [
    {
     "data": {
      "text/plain": [
       "array([0, 1], dtype=int64)"
      ]
     },
     "execution_count": 69,
     "metadata": {},
     "output_type": "execute_result"
    }
   ],
   "source": [
    "# Changing Institute type\n",
    "\n",
    "pred_College['institute_type'] = [0 if x == 'IIT' else 1 for x in pred_College['institute_type']]\n",
    "pred_College['institute_type'].unique()"
   ]
  },
  {
   "cell_type": "code",
   "execution_count": 70,
   "metadata": {
    "execution": {
     "iopub.execute_input": "2023-04-04T15:15:39.187481Z",
     "iopub.status.busy": "2023-04-04T15:15:39.187092Z",
     "iopub.status.idle": "2023-04-04T15:15:39.214754Z",
     "shell.execute_reply": "2023-04-04T15:15:39.213524Z",
     "shell.execute_reply.started": "2023-04-04T15:15:39.187450Z"
    }
   },
   "outputs": [
    {
     "data": {
      "text/plain": [
       "array([0, 3, 6, 1, 2, 4, 5])"
      ]
     },
     "execution_count": 70,
     "metadata": {},
     "output_type": "execute_result"
    }
   ],
   "source": [
    "# Labeling the quota values\n",
    "\n",
    "le = LabelEncoder()\n",
    "pred_College['quota'] = le.fit_transform(pred_College['quota'])\n",
    "pred_College['quota'].unique()"
   ]
  },
  {
   "cell_type": "code",
   "execution_count": 71,
   "metadata": {
    "execution": {
     "iopub.execute_input": "2023-04-04T15:15:41.100734Z",
     "iopub.status.busy": "2023-04-04T15:15:41.100338Z",
     "iopub.status.idle": "2023-04-04T15:15:41.142770Z",
     "shell.execute_reply": "2023-04-04T15:15:41.141772Z",
     "shell.execute_reply.started": "2023-04-04T15:15:41.100703Z"
    }
   },
   "outputs": [
    {
     "data": {
      "text/plain": [
       "array([0, 1], dtype=int64)"
      ]
     },
     "execution_count": 71,
     "metadata": {},
     "output_type": "execute_result"
    }
   ],
   "source": [
    "# changing the pool values\n",
    "\n",
    "pred_College['pool'] = [0 if x == 'Gender-Neutral' else 1 for x in pred_College['pool']]\n",
    "pred_College['pool'].unique()"
   ]
  },
  {
   "cell_type": "code",
   "execution_count": 72,
   "metadata": {
    "execution": {
     "iopub.execute_input": "2023-04-04T15:15:42.667264Z",
     "iopub.status.busy": "2023-04-04T15:15:42.666862Z",
     "iopub.status.idle": "2023-04-04T15:15:42.693589Z",
     "shell.execute_reply": "2023-04-04T15:15:42.692225Z",
     "shell.execute_reply.started": "2023-04-04T15:15:42.667220Z"
    }
   },
   "outputs": [
    {
     "data": {
      "text/plain": [
       "array([0, 4, 6, 8, 3, 5, 7, 9, 1, 2])"
      ]
     },
     "execution_count": 72,
     "metadata": {},
     "output_type": "execute_result"
    }
   ],
   "source": [
    "# Labeling the categories\n",
    "\n",
    "pred_College['category']= le.fit_transform(pred_College['category'])\n",
    "pred_College['category'].unique()"
   ]
  },
  {
   "cell_type": "code",
   "execution_count": 73,
   "metadata": {
    "execution": {
     "iopub.execute_input": "2023-04-04T15:15:45.401096Z",
     "iopub.status.busy": "2023-04-04T15:15:45.400570Z",
     "iopub.status.idle": "2023-04-04T15:15:45.413086Z",
     "shell.execute_reply": "2023-04-04T15:15:45.411880Z",
     "shell.execute_reply.started": "2023-04-04T15:15:45.401050Z"
    }
   },
   "outputs": [],
   "source": [
    "# Selecting the target data\n",
    "\n",
    "y1 = pred_College[['institute_short', 'degree_short', 'program_name']]"
   ]
  },
  {
   "cell_type": "code",
   "execution_count": 74,
   "metadata": {
    "execution": {
     "iopub.execute_input": "2023-04-04T15:15:46.727122Z",
     "iopub.status.busy": "2023-04-04T15:15:46.725964Z",
     "iopub.status.idle": "2023-04-04T15:15:46.734734Z",
     "shell.execute_reply": "2023-04-04T15:15:46.733309Z",
     "shell.execute_reply.started": "2023-04-04T15:15:46.727070Z"
    }
   },
   "outputs": [],
   "source": [
    "# Selecting the featured data\n",
    "\n",
    "X1 = pred_College[['category', 'quota', 'pool', 'institute_type', 'round_no',\n",
    "       'opening_rank', 'closing_rank']]"
   ]
  },
  {
   "cell_type": "markdown",
   "metadata": {},
   "source": [
    "## **<span > Splitting the training and testing data </span>**"
   ]
  },
  {
   "cell_type": "code",
   "execution_count": 75,
   "metadata": {
    "execution": {
     "iopub.execute_input": "2023-04-04T15:15:50.301264Z",
     "iopub.status.busy": "2023-04-04T15:15:50.300847Z",
     "iopub.status.idle": "2023-04-04T15:15:50.325422Z",
     "shell.execute_reply": "2023-04-04T15:15:50.324464Z",
     "shell.execute_reply.started": "2023-04-04T15:15:50.301217Z"
    }
   },
   "outputs": [],
   "source": [
    "# Spilliting the data into training and testing dataset\n",
    "\n",
    "from sklearn.model_selection import train_test_split\n",
    "X1_train, X1_test, y1_train, y1_test = train_test_split(X1, y1, train_size = 0.8)"
   ]
  },
  {
   "cell_type": "code",
   "execution_count": 76,
   "metadata": {
    "execution": {
     "iopub.execute_input": "2023-04-04T15:15:55.742356Z",
     "iopub.status.busy": "2023-04-04T15:15:55.741176Z",
     "iopub.status.idle": "2023-04-04T15:15:55.749728Z",
     "shell.execute_reply": "2023-04-04T15:15:55.748579Z",
     "shell.execute_reply.started": "2023-04-04T15:15:55.742311Z"
    }
   },
   "outputs": [
    {
     "data": {
      "text/plain": [
       "array([[51966, 7],\n",
       "       [12992, 7],\n",
       "       [51966, 3],\n",
       "       [12992, 3]], dtype=object)"
      ]
     },
     "execution_count": 76,
     "metadata": {},
     "output_type": "execute_result"
    }
   ],
   "source": [
    "a1 = np.array([X1_train.shape, X1_test.shape, y1_train.shape, y1_test.shape], dtype = 'object')\n",
    "a1"
   ]
  },
  {
   "cell_type": "markdown",
   "metadata": {},
   "source": [
    "## **<span >Generating the model</span>**"
   ]
  },
  {
   "cell_type": "code",
   "execution_count": 77,
   "metadata": {
    "execution": {
     "iopub.execute_input": "2023-04-04T15:15:58.668142Z",
     "iopub.status.busy": "2023-04-04T15:15:58.667220Z",
     "iopub.status.idle": "2023-04-04T15:15:58.673772Z",
     "shell.execute_reply": "2023-04-04T15:15:58.672573Z",
     "shell.execute_reply.started": "2023-04-04T15:15:58.668089Z"
    }
   },
   "outputs": [],
   "source": [
    "# Importing library for mdoel generation\n",
    "\n",
    "from sklearn.neighbors import KNeighborsClassifier\n",
    "model1 = KNeighborsClassifier()"
   ]
  },
  {
   "cell_type": "code",
   "execution_count": 78,
   "metadata": {
    "execution": {
     "iopub.execute_input": "2023-04-04T15:16:00.160386Z",
     "iopub.status.busy": "2023-04-04T15:16:00.159670Z",
     "iopub.status.idle": "2023-04-04T15:16:01.229165Z",
     "shell.execute_reply": "2023-04-04T15:16:01.227990Z",
     "shell.execute_reply.started": "2023-04-04T15:16:00.160349Z"
    }
   },
   "outputs": [
    {
     "data": {
      "text/plain": [
       "KNeighborsClassifier()"
      ]
     },
     "execution_count": 78,
     "metadata": {},
     "output_type": "execute_result"
    }
   ],
   "source": [
    "model1.fit(X1_train, y1_train)"
   ]
  },
  {
   "cell_type": "code",
   "execution_count": 79,
   "metadata": {
    "execution": {
     "iopub.execute_input": "2023-04-04T15:16:02.495425Z",
     "iopub.status.busy": "2023-04-04T15:16:02.495004Z",
     "iopub.status.idle": "2023-04-04T15:16:02.542064Z",
     "shell.execute_reply": "2023-04-04T15:16:02.541266Z",
     "shell.execute_reply.started": "2023-04-04T15:16:02.495391Z"
    }
   },
   "outputs": [
    {
     "data": {
      "text/plain": [
       "array([['IIT-Kharagpur', 'B.Tech', 'Instrumentation Engineering'],\n",
       "       ['NIT-Durgapur', 'B.Tech', 'Bio Technology'],\n",
       "       ['IIT-Jodhpur', 'B.Tech', 'Computer Science and Engineering'],\n",
       "       ...,\n",
       "       ['NIT-Raipur', 'B.Tech', 'Bio Technology'],\n",
       "       ['NIT-Raipur', 'B.Arch', 'Architecture'],\n",
       "       ['IIT-Bombay', 'B.Tech + M.Tech (IDD)', 'Electrical Engineering']],\n",
       "      dtype=object)"
      ]
     },
     "execution_count": 79,
     "metadata": {},
     "output_type": "execute_result"
    }
   ],
   "source": [
    "# predicting the dataset\n",
    "\n",
    "y_pred1 = model1.predict(X1_test)\n",
    "y_pred1"
   ]
  },
  {
   "cell_type": "code",
   "execution_count": 80,
   "metadata": {
    "execution": {
     "iopub.execute_input": "2023-04-04T15:16:09.200006Z",
     "iopub.status.busy": "2023-04-04T15:16:09.198880Z",
     "iopub.status.idle": "2023-04-04T15:16:09.215204Z",
     "shell.execute_reply": "2023-04-04T15:16:09.213824Z",
     "shell.execute_reply.started": "2023-04-04T15:16:09.199957Z"
    }
   },
   "outputs": [
    {
     "data": {
      "text/html": [
       "<div>\n",
       "<style scoped>\n",
       "    .dataframe tbody tr th:only-of-type {\n",
       "        vertical-align: middle;\n",
       "    }\n",
       "\n",
       "    .dataframe tbody tr th {\n",
       "        vertical-align: top;\n",
       "    }\n",
       "\n",
       "    .dataframe thead tr th {\n",
       "        text-align: left;\n",
       "    }\n",
       "</style>\n",
       "<table border=\"1\" class=\"dataframe\">\n",
       "  <thead>\n",
       "    <tr>\n",
       "      <th></th>\n",
       "      <th>College</th>\n",
       "      <th>Branch</th>\n",
       "      <th>Degree</th>\n",
       "    </tr>\n",
       "  </thead>\n",
       "  <tbody>\n",
       "    <tr>\n",
       "      <th>0</th>\n",
       "      <td>IIT-Delhi</td>\n",
       "      <td>B.Tech</td>\n",
       "      <td>Chemical Engineering</td>\n",
       "    </tr>\n",
       "    <tr>\n",
       "      <th>1</th>\n",
       "      <td>IIT-Hyderabad</td>\n",
       "      <td>B.Tech</td>\n",
       "      <td>Mechanical Engineering</td>\n",
       "    </tr>\n",
       "  </tbody>\n",
       "</table>\n",
       "</div>"
      ],
      "text/plain": [
       "         College  Branch                  Degree\n",
       "0      IIT-Delhi  B.Tech    Chemical Engineering\n",
       "1  IIT-Hyderabad  B.Tech  Mechanical Engineering"
      ]
     },
     "execution_count": 80,
     "metadata": {},
     "output_type": "execute_result"
    }
   ],
   "source": [
    "# prediction\n",
    "\n",
    "Prediction1 = pd.DataFrame(model1.predict([[0, 0, 0, 1, 6, 1000, 2841], [5, 5, 1, 0, 2, 1000, 1841]]), columns = [['College', 'Branch', 'Degree']])\n",
    "Prediction1\n",
    "# Prediction1 = model1.predict([[0, 1, 10, 10, 10, 5000, 2841]])\n",
    "# print(Prediction1)"
   ]
  },
  {
   "cell_type": "markdown",
   "metadata": {},
   "source": [
    "# **<span >Pickling the model for the deployment</span>**"
   ]
  },
  {
   "cell_type": "code",
   "execution_count": 81,
   "metadata": {
    "execution": {
     "iopub.execute_input": "2023-04-04T15:16:53.974404Z",
     "iopub.status.busy": "2023-04-04T15:16:53.973982Z",
     "iopub.status.idle": "2023-04-04T15:16:53.979455Z",
     "shell.execute_reply": "2023-04-04T15:16:53.978329Z",
     "shell.execute_reply.started": "2023-04-04T15:16:53.974369Z"
    }
   },
   "outputs": [],
   "source": [
    "import pickle"
   ]
  },
  {
   "cell_type": "code",
   "execution_count": 82,
   "metadata": {
    "execution": {
     "iopub.execute_input": "2023-04-04T15:16:59.310949Z",
     "iopub.status.busy": "2023-04-04T15:16:59.310564Z",
     "iopub.status.idle": "2023-04-04T15:16:59.581991Z",
     "shell.execute_reply": "2023-04-04T15:16:59.580732Z",
     "shell.execute_reply.started": "2023-04-04T15:16:59.310918Z"
    }
   },
   "outputs": [],
   "source": [
    "pickle.dump(model1, open(\"model1.pkl\", \"wb\"))"
   ]
  },
  {
   "cell_type": "code",
   "execution_count": 86,
   "metadata": {
    "execution": {
     "iopub.execute_input": "2023-04-04T15:26:52.438069Z",
     "iopub.status.busy": "2023-04-04T15:26:52.437676Z",
     "iopub.status.idle": "2023-04-04T15:26:52.799740Z",
     "shell.execute_reply": "2023-04-04T15:26:52.798577Z",
     "shell.execute_reply.started": "2023-04-04T15:26:52.438037Z"
    }
   },
   "outputs": [
    {
     "name": "stdout",
     "output_type": "stream",
     "text": [
      "[['NIT-Karnataka-Surathkal' 'B.Tech'\n",
      "  'Metallurgical and Materials Engineering']]\n"
     ]
    }
   ],
   "source": [
    "loaded_model = pickle.load(open(\"model1.pkl\", 'rb'))\n",
    "result = loaded_model.predict([[0, 1, 11, 5, 10, 9000, 2841]])\n",
    "print(result)"
   ]
  },
  {
   "cell_type": "code",
   "execution_count": 87,
   "metadata": {},
   "outputs": [
    {
     "name": "stdout",
     "output_type": "stream",
     "text": [
      "[['IIT-Delhi' 'B.Tech' 'Chemical Engineering']]\n"
     ]
    }
   ],
   "source": [
    "result = loaded_model.predict([[0, 6, 0, 0, 0, 1000, 2841]])\n",
    "print(result)"
   ]
  },
  {
   "cell_type": "markdown",
   "metadata": {},
   "source": []
  }
 ],
 "metadata": {
  "kernelspec": {
   "display_name": "Python 3 (ipykernel)",
   "language": "python",
   "name": "python3"
  },
  "language_info": {
   "codemirror_mode": {
    "name": "ipython",
    "version": 3
   },
   "file_extension": ".py",
   "mimetype": "text/x-python",
   "name": "python",
   "nbconvert_exporter": "python",
   "pygments_lexer": "ipython3",
   "version": "3.9.13"
  }
 },
 "nbformat": 4,
 "nbformat_minor": 4
}
